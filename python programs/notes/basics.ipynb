{
 "cells": [
  {
   "attachments": {},
   "cell_type": "markdown",
   "metadata": {},
   "source": [
    "# Basics\n",
    "## What is Python\n",
    "Python is an open source, interpreted and object oriented programming language.\n",
    "\n",
    "\n",
    "_**Note**:Indentation is really important in python as we dont make use of {} for blocks._"
   ]
  },
  {
   "attachments": {},
   "cell_type": "markdown",
   "metadata": {},
   "source": [
    "## Datatypes\n",
    "\n",
    "Python has several built in data types including\n",
    "- Integers\n",
    "- Floating point numbers\n",
    "- Strings\n",
    "- Booleans\n",
    "- None\n",
    "\n",
    "To check the data type we can make use of the **type()** function.\n",
    "\n",
    "Variables can be assigned values of different data types and their data type can be changed using **typecasting**."
   ]
  },
  {
   "cell_type": "code",
   "execution_count": null,
   "metadata": {},
   "outputs": [],
   "source": [
    "a=10\n",
    "b=10.1\n",
    "c=\"Hello\"\n",
    "d='c'\n",
    "e=True\n",
    "print(\"a:\",type(a),\"\\nb:\",type(b),\"\\nc:\",type(c),\"\\nd:\",type(d),\"\\ne:\",type(e))\n"
   ]
  },
  {
   "attachments": {},
   "cell_type": "markdown",
   "metadata": {},
   "source": [
    "## Operators\n",
    "\n",
    "- **Arithematic Operators:**\n",
    "    - '+'\n",
    "    - '-'\n",
    "    - '*'\n",
    "    - /\n",
    "    - // (_floor division_)\n",
    "    - % (_modulo_)\n",
    "    - ** (_exponentiation_)\n",
    "\n",
    "- **Logical operators**\n",
    "    - and\n",
    "    - not\n",
    "    - or\n",
    "\n",
    "- **Comparison Operators**\n",
    "    - _>_\n",
    "    - _<_\n",
    "    - _>=_\n",
    "    - <=\n",
    "    - ==\n",
    "    - !=\n"
   ]
  },
  {
   "cell_type": "code",
   "execution_count": null,
   "metadata": {},
   "outputs": [],
   "source": [
    "a=10\n",
    "b=20\n",
    "\n",
    "# difference between /,//,%\n",
    "print(\"a/b:\",a/b,\"   a%b:\",a%b,'   a//b:',a//b)\n",
    "\n",
    "print(\"a!=b and a<b:\",(a!=b and a<b))\n",
    "\n"
   ]
  },
  {
   "attachments": {},
   "cell_type": "markdown",
   "metadata": {},
   "source": [
    "## Conditional Statements\n",
    "\n",
    "- **if**\n",
    "- **elif** (else if)\n",
    "- **else**"
   ]
  },
  {
   "cell_type": "code",
   "execution_count": null,
   "metadata": {},
   "outputs": [],
   "source": [
    "if a==b:\n",
    "    print(\"Hello\")\n",
    "\n",
    "elif a<b:\n",
    "    print(\"Goodbye\")\n",
    "else:\n",
    "    print(\"Sorry\")"
   ]
  },
  {
   "attachments": {},
   "cell_type": "markdown",
   "metadata": {},
   "source": [
    "## Functions\n",
    "\n",
    "Functions are reusable blocks of code that perform a specific task.They are defined using the **def** keyword.\n",
    "\n",
    "The syntax is:\n",
    "\n",
    "```\n",
    "def function_name(parameter(s)) :\n",
    "    function_definition\n",
    "    return #optional\n",
    "```"
   ]
  },
  {
   "cell_type": "code",
   "execution_count": null,
   "metadata": {},
   "outputs": [],
   "source": [
    "def hello():\n",
    "    print(\"Hello\")\n",
    "\n",
    "hello() #function call"
   ]
  }
 ],
 "metadata": {
  "kernelspec": {
   "display_name": "Python 3",
   "language": "python",
   "name": "python3"
  },
  "language_info": {
   "codemirror_mode": {
    "name": "ipython",
    "version": 3
   },
   "file_extension": ".py",
   "mimetype": "text/x-python",
   "name": "python",
   "nbconvert_exporter": "python",
   "pygments_lexer": "ipython3",
   "version": "3.11.1"
  },
  "orig_nbformat": 4
 },
 "nbformat": 4,
 "nbformat_minor": 2
}
