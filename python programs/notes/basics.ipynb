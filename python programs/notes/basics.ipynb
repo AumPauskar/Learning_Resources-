{
 "cells": [
  {
   "attachments": {},
   "cell_type": "markdown",
   "metadata": {},
   "source": [
    "# Basics\n",
    "## What is Python\n",
    "Python is an open source, interpreted and object oriented programming language.\n",
    "\n",
    "\n",
    "_**Note**:Indentation is really important in python as we dont make use of {} for blocks._"
   ]
  },
  {
   "attachments": {},
   "cell_type": "markdown",
   "metadata": {},
   "source": [
    "## Datatypes\n",
    "\n",
    "Python has several built in data types including\n",
    "- Integers\n",
    "- Floating point numbers\n",
    "- Strings\n",
    "- Booleans\n",
    "- None\n",
    "\n",
    "To check the data type we can make use of the **type()** function.\n",
    "\n",
    "Variables can be assigned values of different data types and their data type can be changed using **typecasting**."
   ]
  },
  {
   "cell_type": "code",
   "execution_count": null,
   "metadata": {},
   "outputs": [],
   "source": [
    "a=10\n",
    "b=10.1\n",
    "c=\"Hello\"\n",
    "d='c'\n",
    "e=True\n",
    "print(\"a:\",type(a),\"\\nb:\",type(b),\"\\nc:\",type(c),\"\\nd:\",type(d),\"\\ne:\",type(e))\n"
   ]
  },
  {
   "attachments": {},
   "cell_type": "markdown",
   "metadata": {},
   "source": [
    "The above listed datatypes are common in most of the programming languages. But python also has some other datatypes like lists, tuples, dictionary and sets.\n",
    "\n",
    "### Lists\n",
    "List are collection of mutable items. They are stored by square brackets and seperated by commas.\n",
    "\n",
    "Eg. list=[\"a\", \"b\", \"c\",1,2,2.1]\n",
    "\n",
    "The elements can be accessed by indexes. The list contain two types of indexes:\n",
    "- *forward index*: first element has index zero and last element has index n-1\n",
    "- *backward index*: They are negative indexes, last element has index -1 and first element has index -n\n",
    "\n",
    "To access list elements *list_name[index]*"
   ]
  },
  {
   "cell_type": "code",
   "execution_count": 6,
   "metadata": {},
   "outputs": [
    {
     "name": "stdout",
     "output_type": "stream",
     "text": [
      "1 3\n",
      "[1, 0, 3]\n"
     ]
    }
   ],
   "source": [
    "#  -3 -2 -1  negative index\n",
    "li=[1,2,3]\n",
    "   #0 1 2   index\n",
    "print(li[0],li[-1])\n",
    "\n",
    "li[1]=0  #changing value of element at index 1\n",
    "print(li)"
   ]
  },
  {
   "attachments": {},
   "cell_type": "markdown",
   "metadata": {},
   "source": [
    "**List Operations**\n",
    "\n",
    "Concatenate two list can be done using + operator.\n",
    "```\n",
    "a=[1,3,4]\n",
    "b=[3,6,8]\n",
    "c=a+b\n",
    "#c=[1,3,4,3,6,8]\n",
    "```\n",
    "\n",
    "Python has some inbuilt functions to perform operations on stack.\n",
    "\n",
    "1. Append: Adds an element to the end of the list."
   ]
  },
  {
   "cell_type": "code",
   "execution_count": null,
   "metadata": {},
   "outputs": [],
   "source": [
    "fruits = ['apple', 'banana', 'cherry']\n",
    "fruits.append('orange')\n",
    "print(fruits) # Output: ['apple', 'banana', 'cherry', 'orange']"
   ]
  },
  {
   "attachments": {},
   "cell_type": "markdown",
   "metadata": {},
   "source": [
    "2. Insert: Inserts an element at a specified position in the list."
   ]
  },
  {
   "cell_type": "code",
   "execution_count": null,
   "metadata": {},
   "outputs": [],
   "source": [
    "fruits = ['apple', 'banana', 'cherry']\n",
    "fruits.insert(1, 'orange')\n",
    "print(fruits) # Output: ['apple', 'orange', 'banana', 'cherry']\n"
   ]
  },
  {
   "attachments": {},
   "cell_type": "markdown",
   "metadata": {},
   "source": [
    "3. Remove: Removes the first occurrence of the specified element in the list."
   ]
  },
  {
   "cell_type": "code",
   "execution_count": null,
   "metadata": {},
   "outputs": [],
   "source": [
    "fruits = ['apple', 'banana', 'cherry']\n",
    "fruits.remove('banana')\n",
    "print(fruits) # Output: ['apple', 'cherry']\n"
   ]
  },
  {
   "attachments": {},
   "cell_type": "markdown",
   "metadata": {},
   "source": [
    "4. Pop: Removes and returns the element at the specified position in the list. If no index is specified, it removes and returns the last element."
   ]
  },
  {
   "cell_type": "code",
   "execution_count": null,
   "metadata": {},
   "outputs": [],
   "source": [
    "fruits = ['apple', 'banana', 'cherry']\n",
    "last_fruit = fruits.pop()\n",
    "print(last_fruit) # Output: 'cherry'\n",
    "second_fruit = fruits.pop(1)\n",
    "print(second_fruit) # Output: 'banana'\n",
    "print(fruits) # Output: ['apple']\n"
   ]
  },
  {
   "attachments": {},
   "cell_type": "markdown",
   "metadata": {},
   "source": [
    "5. Index: Returns the index of the first occurrence of the specified element in the list."
   ]
  },
  {
   "cell_type": "code",
   "execution_count": null,
   "metadata": {},
   "outputs": [],
   "source": [
    "fruits = ['apple', 'banana', 'cherry']\n",
    "index = fruits.index('banana')\n",
    "print(index) # Output: 1\n"
   ]
  },
  {
   "attachments": {},
   "cell_type": "markdown",
   "metadata": {},
   "source": [
    "6. Count: Returns the number of times the specified element appears in the list."
   ]
  },
  {
   "cell_type": "code",
   "execution_count": null,
   "metadata": {},
   "outputs": [],
   "source": [
    "fruits = ['apple', 'banana', 'cherry', 'banana']\n",
    "count = fruits.count('banana')\n",
    "print(count) # Output: 2\n"
   ]
  },
  {
   "attachments": {},
   "cell_type": "markdown",
   "metadata": {},
   "source": [
    "7. Sort: Sorts the list in ascending order."
   ]
  },
  {
   "cell_type": "code",
   "execution_count": null,
   "metadata": {},
   "outputs": [],
   "source": [
    "numbers = [3, 1, 4, 1, 5, 9, 2, 6, 5, 3, 5]\n",
    "numbers.sort()\n",
    "print(numbers) # Output: [1, 1, 2, 3, 3, 4, 5, 5, 5, 6, 9]\n"
   ]
  },
  {
   "attachments": {},
   "cell_type": "markdown",
   "metadata": {},
   "source": [
    "8. Reverse: Reverses the order of the elements in the list."
   ]
  },
  {
   "cell_type": "code",
   "execution_count": null,
   "metadata": {},
   "outputs": [],
   "source": [
    "numbers = [1, 2, 3, 4, 5]\n",
    "numbers.reverse()\n",
    "print(numbers) # Output: [5, 4, 3, 2, 1]\n"
   ]
  },
  {
   "attachments": {},
   "cell_type": "markdown",
   "metadata": {},
   "source": [
    "9. Len:Retrurns the length of the list"
   ]
  },
  {
   "cell_type": "code",
   "execution_count": 8,
   "metadata": {},
   "outputs": [
    {
     "data": {
      "text/plain": [
       "5"
      ]
     },
     "execution_count": 8,
     "metadata": {},
     "output_type": "execute_result"
    }
   ],
   "source": [
    "num=[1,2,3,4,5]\n",
    "len(num)"
   ]
  },
  {
   "attachments": {},
   "cell_type": "markdown",
   "metadata": {},
   "source": [
    "## Operators\n",
    "\n",
    "- **Arithematic Operators:**\n",
    "    - '+'\n",
    "    - '-'\n",
    "    - '*'\n",
    "    - /\n",
    "    - // (_floor division_)\n",
    "    - % (_modulo_)\n",
    "    - ** (_exponentiation_)\n",
    "\n",
    "- **Logical operators**\n",
    "    - and\n",
    "    - not\n",
    "    - or\n",
    "\n",
    "- **Comparison Operators**\n",
    "    - _>_\n",
    "    - _<_\n",
    "    - _>=_\n",
    "    - <=\n",
    "    - ==\n",
    "    - !=\n"
   ]
  },
  {
   "cell_type": "code",
   "execution_count": null,
   "metadata": {},
   "outputs": [],
   "source": [
    "a=10\n",
    "b=20\n",
    "\n",
    "# difference between /,//,%\n",
    "print(\"a/b:\",a/b,\"   a%b:\",a%b,'   a//b:',a//b)\n",
    "\n",
    "print(\"a!=b and a<b:\",(a!=b and a<b))\n",
    "\n"
   ]
  },
  {
   "attachments": {},
   "cell_type": "markdown",
   "metadata": {},
   "source": [
    "## Conditional Statements\n",
    "\n",
    "- **if**\n",
    "- **elif** (else if)\n",
    "- **else**"
   ]
  },
  {
   "cell_type": "code",
   "execution_count": null,
   "metadata": {},
   "outputs": [],
   "source": [
    "if a==b:\n",
    "    print(\"Hello\")\n",
    "\n",
    "elif a<b:\n",
    "    print(\"Goodbye\")\n",
    "else:\n",
    "    print(\"Sorry\")"
   ]
  },
  {
   "attachments": {},
   "cell_type": "markdown",
   "metadata": {},
   "source": [
    "## Functions\n",
    "\n",
    "Functions are reusable blocks of code that perform a specific task.They are defined using the **def** keyword.\n",
    "\n",
    "The syntax is:\n",
    "\n",
    "```\n",
    "def function_name(parameter(s)) :\n",
    "    function_definition\n",
    "    return #optional\n",
    "```"
   ]
  },
  {
   "cell_type": "code",
   "execution_count": null,
   "metadata": {},
   "outputs": [],
   "source": [
    "def hello():\n",
    "    print(\"Hello\")\n",
    "\n",
    "hello() #function call"
   ]
  },
  {
   "attachments": {},
   "cell_type": "markdown",
   "metadata": {},
   "source": [
    "We can return any type of value from functions or not return anuything. The function definition edns when it encounters a return statement or the next statemnt is not inside its indentation.\n",
    "\n",
    "\n",
    "Use of **global** keyword:\n",
    "\n",
    "A global keyword is used to indicate that the variable is a global variable , it can be accessed and modified in any part of the code."
   ]
  },
  {
   "cell_type": "code",
   "execution_count": null,
   "metadata": {},
   "outputs": [],
   "source": [
    "x=10\n",
    "y=20\n",
    "\n",
    "print(\"X before function call:\",x,\"Y before function call:\",y)\n",
    "\n",
    "def abc():\n",
    "    global x\n",
    "    x=20\n",
    "    y=30\n",
    "\n",
    "abc()\n",
    "\n",
    "print(\"X after function call:\",x,\"Y after function call:\",y)"
   ]
  },
  {
   "attachments": {},
   "cell_type": "markdown",
   "metadata": {},
   "source": [
    "In Python, passing arguments to a function can be done either by value or by reference. When a function is called, the actual value of the argument is passed to the function as a parameter. In case of passing an immutable object like a number, string, or tuple, the function receives a copy of the value and any changes made to the parameter inside the function have no effect on the original value.\n",
    "\n",
    "\n",
    "However, when passing a mutable object like a list, dictionary or set, the function receives a reference to the object and any changes made to the object inside the function will be reflected in the original object"
   ]
  },
  {
   "cell_type": "code",
   "execution_count": 5,
   "metadata": {},
   "outputs": [
    {
     "name": "stdout",
     "output_type": "stream",
     "text": [
      "[1, 2, 3, 4, 5] hello\n"
     ]
    }
   ],
   "source": [
    "def change_list(list1,str1):\n",
    "    list1.append(4)\n",
    "    list1.append(5)\n",
    "    str1=\"wht\"\n",
    "str=\"hello\"\n",
    "my_list = [1, 2, 3]\n",
    "change_list(my_list,str)\n",
    "print(my_list,str) # Output: [1, 2, 3, 4, 5]"
   ]
  },
  {
   "cell_type": "markdown",
   "metadata": {},
   "source": []
  }
 ],
 "metadata": {
  "kernelspec": {
   "display_name": "Python 3",
   "language": "python",
   "name": "python3"
  },
  "language_info": {
   "codemirror_mode": {
    "name": "ipython",
    "version": 3
   },
   "file_extension": ".py",
   "mimetype": "text/x-python",
   "name": "python",
   "nbconvert_exporter": "python",
   "pygments_lexer": "ipython3",
   "version": "3.11.1"
  },
  "orig_nbformat": 4
 },
 "nbformat": 4,
 "nbformat_minor": 2
}
