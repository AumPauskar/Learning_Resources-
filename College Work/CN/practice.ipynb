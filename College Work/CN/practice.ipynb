{
 "cells": [
  {
   "cell_type": "markdown",
   "metadata": {},
   "source": [
    "RSA Algorithm"
   ]
  },
  {
   "cell_type": "code",
   "execution_count": 28,
   "metadata": {},
   "outputs": [
    {
     "name": "stdout",
     "output_type": "stream",
     "text": [
      "p:11\tq:17\te:3\n",
      ";vPPd\n",
      "hello\n"
     ]
    }
   ],
   "source": [
    "from math import gcd\n",
    "from sympy import randprime\n",
    "\n",
    "p=11\n",
    "q=17\n",
    "\n",
    "n=p*q\n",
    "phi=(p-1)*(q-1)\n",
    "\n",
    "e=2\n",
    "while e<phi and gcd(e,phi)!=1:\n",
    "    e+=1\n",
    "d=pow(e,-1,phi)\n",
    "\n",
    "print(f\"p:{p}\\tq:{q}\\te:{e}\")\n",
    "\n",
    "def encrypt(text,public_key):\n",
    "    e,n=public_key\n",
    "    return [pow(ord(char),e,n) for char in text]\n",
    "\n",
    "def decrypt(cipher,private_key):\n",
    "    d,n=private_key\n",
    "    return \"\".join([chr(pow(c,d,n)) for c in cipher])\n",
    "\n",
    "text=\"hello\"\n",
    "cipher=encrypt(text,(e,n))\n",
    "cipher_text=\"\".join(chr(c) for c in cipher)\n",
    "print(cipher_text)\n",
    "print(decrypt(cipher,(d,n)))\n"
   ]
  },
  {
   "cell_type": "markdown",
   "metadata": {},
   "source": [
    "Leaky Bucket Algorithm\n"
   ]
  },
  {
   "cell_type": "code",
   "execution_count": 29,
   "metadata": {},
   "outputs": [
    {
     "name": "stdout",
     "output_type": "stream",
     "text": [
      "Sent 2\n",
      "Sent 3\n",
      "Sent 4\n",
      "Dropped:5\tCycle 1 complete\n",
      "Sent 6\n",
      "Dropped:7\tCycle 2 complete\n",
      "Sent 8\n",
      "Dropped:9\tCycle 3 complete\n",
      "Sent 1\n",
      "Sent 4\n",
      "Sent 2\n",
      "Dropped:7\tCycle 4 complete\n",
      "Sent 4\n",
      "Dropped:11\tCycle 5 complete\n",
      "Dropped:23\tCycle 6 complete\n"
     ]
    }
   ],
   "source": [
    "from time import sleep\n",
    "def leakyBucket(packets,size,rate):\n",
    "    cycle=bucket=0\n",
    "    for p in packets:\n",
    "        if p+bucket>size:\n",
    "            bucket=0\n",
    "            cycle+=1\n",
    "            print(f\"Dropped:{p}\\tCycle {cycle} complete\")\n",
    "            sleep(1/rate)\n",
    "            continue\n",
    "        bucket+=p\n",
    "        print(f\"Sent {p}\")\n",
    "\n",
    "packets=[2,3,4,5,6,7,8,9,1,4,2,7,4,11,23]\n",
    "size=10\n",
    "leakyBucket(packets,size,2)\n"
   ]
  },
  {
   "cell_type": "code",
   "execution_count": 1,
   "metadata": {},
   "outputs": [
    {
     "name": "stdout",
     "output_type": "stream",
     "text": [
      "10011001000\n",
      "10011001000\n",
      "Without Error:\n",
      "000\n",
      "With error:\n",
      "100\n"
     ]
    }
   ],
   "source": [
    "def xor(a,b):\n",
    "    res=[]\n",
    "    for i in range(1,len(b)):\n",
    "        if a[i]==b[i]:\n",
    "            res.append('0')\n",
    "        else:\n",
    "            res.append('1')\n",
    "    return \"\".join(res)\n",
    "\n",
    "def mod2div(dividend,divisor):\n",
    "    pick=len(divisor)\n",
    "    tmp=dividend[0:pick]\n",
    "    while pick<len(dividend):\n",
    "        if tmp[0]=='1':\n",
    "            tmp=xor(divisor,tmp)+dividend[pick]\n",
    "        else:\n",
    "            tmp=xor('0'*pick,tmp)+dividend[pick]\n",
    "        pick+=1\n",
    "    if tmp[0]=='1':\n",
    "        tmp=xor(divisor,tmp)\n",
    "    else:\n",
    "        tmp=xor('0'*pick,tmp)\n",
    "    checkword = tmp\n",
    "    return checkword\n",
    "\n",
    "def encode(data,key):\n",
    "    new=data + '0'*(len(key)-1)\n",
    "    print(new)\n",
    "    rem=mod2div(new,key)\n",
    "    codeword=data+rem\n",
    "    return codeword\n",
    "\n",
    "text=input(\"Enter data:\")\n",
    "key=input(\"Enter key:\")\n",
    "code=encode(text,key)\n",
    "print(code)\n",
    "\n",
    "print(\"Without Error:\")\n",
    "print(mod2div(code,'1001'))\n",
    "\n",
    "print(\"With error:\")\n",
    "idx=int(input(\"Enter the ind3ex of word to flip:\"))\n",
    "if idx<len(code):\n",
    "    if code[idx]=='0':\n",
    "        c='1'\n",
    "    else:\n",
    "        c='0'\n",
    "    code=code[0:idx]+c+code[idx+1:]\n",
    "rem=mod2div(code,key)\n",
    "print(rem)\n"
   ]
  },
  {
   "cell_type": "markdown",
   "metadata": {},
   "source": [
    "Distance Vector Algorithm"
   ]
  },
  {
   "cell_type": "code",
   "execution_count": 2,
   "metadata": {},
   "outputs": [
    {
     "name": "stdout",
     "output_type": "stream",
     "text": [
      "Routing table for Node:1\n",
      "Destination\t\tCost\n",
      "2\t\t2\n",
      "3\t\t2\n",
      "4\t\t1\n",
      "5\t\t1\n",
      "Routing table for Node:2\n",
      "Destination\t\tCost\n",
      "1\t\t2\n",
      "3\t\t2\n",
      "4\t\t3\n",
      "5\t\t1\n",
      "Routing table for Node:3\n",
      "Destination\t\tCost\n",
      "1\t\t2\n",
      "2\t\t2\n",
      "4\t\t3\n",
      "5\t\t1\n",
      "Routing table for Node:4\n",
      "Destination\t\tCost\n",
      "1\t\t1\n",
      "2\t\t3\n",
      "3\t\t3\n",
      "5\t\t2\n",
      "Routing table for Node:5\n",
      "Destination\t\tCost\n",
      "1\t\t1\n",
      "2\t\t1\n",
      "3\t\t1\n",
      "4\t\t2\n"
     ]
    }
   ],
   "source": [
    "import sys\n",
    "class Network:\n",
    "    def __init__(self,nodes):\n",
    "        self.nodes=nodes\n",
    "        self.graph={}\n",
    "        self.vector={}\n",
    "    def addLink(self,n1,n2,cost):\n",
    "        if n1 not in self.graph:\n",
    "            self.graph[n1]={}\n",
    "        self.graph[n1][n2]=cost\n",
    "        if n2 not in self.graph:\n",
    "            self.graph[n2]={}\n",
    "        self.graph[n2][n1]=cost\n",
    "    def initialize(self,node):\n",
    "        self.vector[node]={node:0}\n",
    "        for n in self.nodes:\n",
    "            if n!=node:\n",
    "                self.vector[node][n]=sys.maxsize\n",
    "    \n",
    "    def update(self,node):\n",
    "        for dest in self.nodes:\n",
    "            if dest!=node:\n",
    "                min_cost=sys.maxsize\n",
    "                for neighbour in self.graph[node]:\n",
    "                    if dest in self.vector[neighbour]:\n",
    "                        cost=self.vector[neighbour][dest]+self.graph[node][neighbour]\n",
    "                    min_cost=min(min_cost,cost)\n",
    "                self.vector[node][dest]=min_cost\n",
    "    \n",
    "    def printTable(self,node):\n",
    "        print(f\"Routing table for Node:{node}\\nDestination\\t\\tCost\")\n",
    "        for dest,cost in self.vector[node].items():\n",
    "            if dest!=node:\n",
    "                print(f\"{dest}\\t\\t{cost}\")\n",
    "\n",
    "\n",
    "if __name__ == '__main__':\n",
    "    nodes = [1, 2, 3, 4, 5]\n",
    "    net = Network(nodes)\n",
    "    net.addLink(1, 2, 2)\n",
    "    net.addLink(1, 3, 2)\n",
    "    net.addLink(1, 4, 1)\n",
    "    net.addLink(2, 3, 3)\n",
    "    net.addLink(2, 5, 1)\n",
    "    net.addLink(3, 4, 4)\n",
    "    net.addLink(3, 5, 1)\n",
    "    net.addLink(1, 5, 1)\n",
    "\n",
    "    for node in nodes:\n",
    "        net.initialize(node)\n",
    "    for _ in range(6):\n",
    "        for node in nodes:\n",
    "            net.update(node)\n",
    "    for node in nodes:\n",
    "        net.printTable(node)\n"
   ]
  },
  {
   "cell_type": "markdown",
   "metadata": {},
   "source": [
    "TCP Connection using Socket Programming"
   ]
  },
  {
   "cell_type": "code",
   "execution_count": 4,
   "metadata": {},
   "outputs": [],
   "source": [
    "# server\n",
    "import socket\n",
    "\n",
    "server=socket.socket(socket.AF_INET,socket.SOCK_STREAM)\n",
    "server.bind(('localhost',12345))\n",
    "server.listen(1)\n",
    "\n",
    "while True:\n",
    "    csoc,caddress=server.accept()\n",
    "    data=csoc.recv(1024)\n",
    "    print(data.decode())\n",
    "    csoc.sendall(\"Hello Client\")\n",
    "    csoc.close()"
   ]
  },
  {
   "cell_type": "code",
   "execution_count": null,
   "metadata": {},
   "outputs": [],
   "source": [
    "# client\n",
    "import socket\n",
    "client=socket.socket(socket.AF_INET,socket.SOCK_STREAM)\n",
    "client.connect(('localhost',12345))\n",
    "client.sendall(b\"Hello I am Client\")\n",
    "data=client.recv(1024)\n",
    "print(data.decode())"
   ]
  },
  {
   "cell_type": "markdown",
   "metadata": {},
   "source": [
    "UDP Connectionless Protocol"
   ]
  },
  {
   "cell_type": "code",
   "execution_count": null,
   "metadata": {},
   "outputs": [],
   "source": [
    "# sender\n",
    "import socket \n",
    "sender=socket.socket(socket.AF_INET,socket.DGRAM)\n",
    "address=('localhost',12345)\n",
    "while True:\n",
    "    message=input(\"Enter message\")\n",
    "    sender.sendto(message.encode(),address)\n",
    "    "
   ]
  },
  {
   "cell_type": "code",
   "execution_count": null,
   "metadata": {},
   "outputs": [],
   "source": [
    "import socket\n",
    "receiver=socket.socket(socket.AF_INET,socket.DGRAM)\n",
    "receiver.bind(('localhost',12345))\n",
    "while True:\n",
    "    data,address=receiver.recvfrom(1024)\n",
    "    print(data.decode())"
   ]
  }
 ],
 "metadata": {
  "kernelspec": {
   "display_name": "Python 3",
   "language": "python",
   "name": "python3"
  },
  "language_info": {
   "codemirror_mode": {
    "name": "ipython",
    "version": 3
   },
   "file_extension": ".py",
   "mimetype": "text/x-python",
   "name": "python",
   "nbconvert_exporter": "python",
   "pygments_lexer": "ipython3",
   "version": "3.12.1"
  }
 },
 "nbformat": 4,
 "nbformat_minor": 2
}
