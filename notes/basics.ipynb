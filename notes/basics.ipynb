{
 "cells": [
  {
   "attachments": {},
   "cell_type": "markdown",
   "metadata": {},
   "source": [
    "## Introduction\n",
    "\n",
    "Python is a high-level, interpreted programming language known for its simplicity and readability. It was created by **Guido van Rossum** and first released in 1991. Python emphasizes code readability with its clean syntax and uses indentation rather than braces for block structures, making it easy to write and understand. It supports multiple programming paradigms, including procedural, object-oriented, and functional programming styles.\n",
    "\n",
    "\n",
    "\n",
    "_**Note**:Indentation is really important in python as we dont make use of {} for blocks._\n",
    "\n",
    "## Why Python\n",
    "- Open Source\n",
    "- Easy to learn and understand the code\n",
    "- Expressive and Consice Code\n",
    "-  Multi-Purpose Language: Python is a versatile language used in various domains, including web development, data analysis, machine learning,  scientific computing, automation, and more. It provides extensive libraries and frameworks for different purposes.    \n",
    "- Cross- Platform Compatibility\n",
    "- Wide range of libraries for performing tasks\n",
    "- Great community support\n",
    "- Many Companies such as IBM, Slack, Google, EA Games use python\n"
   ]
  },
  {
   "attachments": {},
   "cell_type": "markdown",
   "metadata": {},
   "source": [
    "## **Tokens**\n",
    "Tokens in Python are the smallest units of meaningful code and are categorized into several types. Here’s a quick breakdown to include in your notes:\n",
    "\n",
    "### 1. **Keywords**\n",
    "   - Reserved words in Python that have a special meaning and cannot be used as variable names.\n",
    "   - Examples include `if`, `else`, `while`, `for`, `class`, `return`, and `try`.\n",
    "   \n",
    "### 2. **Identifiers**\n",
    "   - Names given to variables, functions, classes, and other objects.\n",
    "   - Rules: Must start with a letter or underscore, can’t use Python keywords, and are case-sensitive.\n",
    "\n",
    "### 3. **Literals**\n",
    "   - Fixed values assigned to variables or constants.\n",
    "   - Types:\n",
    "     - **String literals**: Enclosed in single, double, or triple quotes (e.g., `\"Hello\"`, `'World'`).\n",
    "     - **Numeric literals**: Include integers, floats, and complex numbers.\n",
    "     - **Boolean literals**: `True` and `False`.\n",
    "     - **Special literals**: `None` represents a null value.\n",
    "\n",
    "### 4. **Operators**\n",
    "   - Symbols used to perform operations on variables and values.\n",
    "   - Types:\n",
    "     - **Arithmetic**: `+`, `-`, `*`, `/`, etc.\n",
    "     - **Comparison**: `==`, `!=`, `>`, `<`, etc.\n",
    "     - **Logical**: `and`, `or`, `not`.\n",
    "     - **Assignment**: `=`, `+=`, `-=`, etc.\n",
    "     - **Bitwise**: `&`, `|`, `^`, `~`, etc.\n",
    "\n",
    "### 5. **Punctuation/Separators**\n",
    "   - Characters that structure and organize code.\n",
    "   - Examples include commas `,`, colons `:`, parentheses `()`, and brackets `[]`.\n",
    "\n",
    "## **Variables**\n",
    "Variables are used to store data values in memory. They are created when a value is assigned to them and are destroyed when they go out of scope.\n",
    "\n",
    "In Python, variable names must adhere to the following rules:\n",
    "\n",
    "1. Variable names must start with a letter or an underscore character.\n",
    "2. Subsequent characters in a variable name can be letters, numbers, or underscores.\n",
    "3. Variable names are case-sensitive, meaning \"myvar\" and \"MyVar\" are different variables.\n",
    "4. Variable names should be descriptive and not the same as any Python keywords or built-in functions, such as \"print\" or \"list\".\n",
    "5. Variable names should not start with a number.\n",
    "\n",
    "Here are some examples of valid variable names in Python:\n",
    "\n",
    "- my_variable\n",
    "- another_variable\n",
    "- variable1\n",
    "- _this_is_a_valid_variable_name\n",
    "\n",
    "\n",
    "And here are some examples of invalid variable names in Python:\n",
    "\n",
    "\n",
    "- 1variable  # Cannot start with a number\n",
    "- my-var    # Cannot use hyphens\n",
    "- class     # Cannot use Python keywords\n",
    "\n",
    "_**Note**: Same rules apply for function names as well_\n",
    "\n",
    "## **Datatypes**\n",
    "\n",
    "### **Integer (`int`)**\n",
    "   - An integer is a whole number, positive or negative, without a decimal point.\n",
    "   - Can be of any length, constrained only by the memory available.\n",
    "   - Common operations include arithmetic (`+`, `-`, `*`, `/`) and bitwise operations (`&`, `|`, `^`, `~`).\n",
    "   - **Example**:\n",
    "     ```python\n",
    "     age = 25\n",
    "     temperature = -15\n",
    "     print(type(age))  # Output: <class 'int'>\n",
    "     ```\n",
    "\n",
    "### **Float (`float`)**\n",
    "   - A float represents a number with a decimal point. It’s used for real numbers that require precision.\n",
    "   - Typically, floats are 64-bit, allowing representation of a wide range of decimal values.\n",
    "   - Supports arithmetic operations and rounding functions (`round()`, `math.floor()`, `math.ceil()`).\n",
    "   - **Example**:\n",
    "   ```python\n",
    "   pi = 3.14159\n",
    "   distance = -42.5\n",
    "   print(type(pi))  # Output: <class 'float'>\n",
    "   ```\n",
    "\n",
    "### **Boolean (`bool`)**\n",
    "   - A Boolean represents a logical value, either `True` or `False`.\n",
    "   - Booleans are a subtype of integers, where `True` is equivalent to `1` and `False` to `0`.\n",
    "   - Commonly used in conditional statements and comparisons.\n",
    "   - **Example**:\n",
    "     ```python\n",
    "     is_sunny = True\n",
    "     is_raining = False\n",
    "     print(type(is_sunny))  # Output: <class 'bool'>\n",
    "     ```\n",
    "\n",
    "### **String (`str`)**\n",
    "   - A string is an immutable sequence of characters, used to represent text.\n",
    "   - Strings are enclosed in single (`'...'`), double (`\"...\"`), or triple quotes (`'''...'''` or `\"\"\"...\"\"\"` for multi-line strings).\n",
    "   - Supports indexing, slicing, and many built-in methods like `.upper()`, `.lower()`, `.replace()`, `.find()`.\n",
    "   - **Example**:\n",
    "     ```python\n",
    "     greeting = \"Hello, World!\"\n",
    "     print(greeting[0])       # Output: H\n",
    "     print(greeting.upper())  # Output: HELLO, WORLD!\n",
    "     print(type(greeting))    # Output: <class 'str'>\n",
    "     ```\n",
    "**Note**:\n",
    "*To check the data type we can make use of the **type()** function.*\n",
    "\n"
   ]
  },
  {
   "cell_type": "code",
   "execution_count": 1,
   "metadata": {},
   "outputs": [
    {
     "name": "stdout",
     "output_type": "stream",
     "text": [
      "a: <class 'int'> \n",
      "b: <class 'float'> \n",
      "c: <class 'str'> \n",
      "d: <class 'str'> \n",
      "e: <class 'bool'>\n"
     ]
    }
   ],
   "source": [
    "a=10\n",
    "b=10.1\n",
    "c=\"Hello\"\n",
    "d='c'\n",
    "e=True\n",
    "print(\"a:\",type(a),\"\\nb:\",type(b),\"\\nc:\",type(c),\"\\nd:\",type(d),\"\\ne:\",type(e))\n"
   ]
  },
  {
   "cell_type": "markdown",
   "metadata": {},
   "source": [
    "1. String Concatenation: We can concatenate two or more strings using the '+' operator. For example:"
   ]
  },
  {
   "cell_type": "code",
   "execution_count": 2,
   "metadata": {},
   "outputs": [
    {
     "name": "stdout",
     "output_type": "stream",
     "text": [
      "Hello World\n"
     ]
    }
   ],
   "source": [
    "str1 = \"Hello\"\n",
    "str2 = \"World\"\n",
    "result = str1 + \" \" + str2\n",
    "print(result) # Output: \"Hello World\"\n"
   ]
  },
  {
   "cell_type": "markdown",
   "metadata": {},
   "source": [
    "2. String Length: We can find the length of a string using the len() function. For example:"
   ]
  },
  {
   "cell_type": "code",
   "execution_count": 3,
   "metadata": {},
   "outputs": [
    {
     "name": "stdout",
     "output_type": "stream",
     "text": [
      "11\n"
     ]
    }
   ],
   "source": [
    "string = \"Hello World\"\n",
    "print(len(string)) # Output: 11\n"
   ]
  },
  {
   "cell_type": "markdown",
   "metadata": {},
   "source": [
    "3. String Slicing: We can extract a part of a string using slicing.\n",
    "\n",
    "    General Syntax: **string[from_index : to_index : step_value]**\n",
    "    \n",
    "    For example:"
   ]
  },
  {
   "cell_type": "code",
   "execution_count": 4,
   "metadata": {},
   "outputs": [
    {
     "name": "stdout",
     "output_type": "stream",
     "text": [
      "Hello\n"
     ]
    }
   ],
   "source": [
    "string = \"Hello World\"\n",
    "print(string[0:5]) # Output: \"Hello\"\n"
   ]
  },
  {
   "cell_type": "markdown",
   "metadata": {},
   "source": [
    "4. String Formatting: We can format a string using placeholders. For example:"
   ]
  },
  {
   "cell_type": "code",
   "execution_count": 5,
   "metadata": {},
   "outputs": [
    {
     "name": "stdout",
     "output_type": "stream",
     "text": [
      "My name is John and I am 30 years old\n"
     ]
    }
   ],
   "source": [
    "name = \"John\"\n",
    "age = 30\n",
    "print(\"My name is {} and I am {} years old\".format(name, age))\n",
    "# Output: \"My name is John and I am 30 years old\"\n"
   ]
  },
  {
   "cell_type": "markdown",
   "metadata": {},
   "source": [
    "5. String Case Conversion: We can convert a string to upper or lower case using the upper() and lower() functions. For example:"
   ]
  },
  {
   "cell_type": "code",
   "execution_count": 6,
   "metadata": {},
   "outputs": [
    {
     "name": "stdout",
     "output_type": "stream",
     "text": [
      "HELLO WORLD\n",
      "hello world\n"
     ]
    }
   ],
   "source": [
    "string = \"Hello World\"\n",
    "print(string.upper()) # Output: \"HELLO WORLD\"\n",
    "print(string.lower()) # Output: \"hello world\"\n"
   ]
  },
  {
   "cell_type": "markdown",
   "metadata": {},
   "source": [
    "6. String Replace: We can replace a substring in a string using the replace() function. For example:"
   ]
  },
  {
   "cell_type": "code",
   "execution_count": 7,
   "metadata": {},
   "outputs": [
    {
     "name": "stdout",
     "output_type": "stream",
     "text": [
      "Hello Python\n"
     ]
    }
   ],
   "source": [
    "string = \"Hello World\"\n",
    "print(string.replace(\"World\", \"Python\")) # Output: \"Hello Python\"\n"
   ]
  },
  {
   "cell_type": "markdown",
   "metadata": {},
   "source": [
    "7. Use of operators '+' and '*'"
   ]
  },
  {
   "cell_type": "code",
   "execution_count": 8,
   "metadata": {},
   "outputs": [
    {
     "name": "stdout",
     "output_type": "stream",
     "text": [
      "hello hello \n",
      "hello i am shriram\n"
     ]
    }
   ],
   "source": [
    "a=\"hello \"\n",
    "b=\"i am shriram\"\n",
    "c=a+b\n",
    "print(a*2) #output: hellohello\n",
    "print(c)   #Output: hello i am shriram"
   ]
  },
  {
   "attachments": {},
   "cell_type": "markdown",
   "metadata": {},
   "source": [
    "### **Lists**\n",
    "A list is a mutable, ordered collection of items, meaning elements can be added, removed, or changed.\n",
    "\n",
    "Eg. list=[\"a\", \"b\", \"c\",1,2,2.1]\n",
    "\n",
    "The elements can be accessed by indexes. The list contain two types of indexes:\n",
    "- *forward index*: first element has index zero and last element has index n-1\n",
    "- *backward index*: They are negative indexes, last element has index -1 and first element has index -n\n",
    "\n",
    "To access list elements *list_name[index]*"
   ]
  },
  {
   "cell_type": "code",
   "execution_count": 10,
   "metadata": {},
   "outputs": [
    {
     "name": "stdout",
     "output_type": "stream",
     "text": [
      "1 3\n",
      "[1, 0, 3]\n",
      "[1, 0, 3]\n"
     ]
    }
   ],
   "source": [
    "#  -3 -2 -1  negative index\n",
    "li=[1,2,3]\n",
    "   #0 1 2   index\n",
    "print(li[0],li[-1])\n",
    "l2=li\n",
    "l2[1]=0  #changing value of element at index 1\n",
    "print(li)\n",
    "print(l2)"
   ]
  },
  {
   "attachments": {},
   "cell_type": "markdown",
   "metadata": {},
   "source": [
    "**List Operations**\n",
    "\n",
    "Concatenate two list can be done using + operator.\n",
    "```py\n",
    "a=[1,3,4]\n",
    "b=[3,6,8]\n",
    "c=a+b\n",
    "#c=[1,3,4,3,6,8]\n",
    "```\n",
    "\n",
    "Python has some inbuilt functions to perform operations on stack.\n",
    "\n",
    "1. Append: Adds an element to the end of the list."
   ]
  },
  {
   "cell_type": "code",
   "execution_count": 11,
   "metadata": {},
   "outputs": [
    {
     "name": "stdout",
     "output_type": "stream",
     "text": [
      "['apple', 'banana', 'cherry', 'orange']\n"
     ]
    }
   ],
   "source": [
    "fruits = ['apple', 'banana', 'cherry']\n",
    "fruits.append('orange')\n",
    "print(fruits) # Output: ['apple', 'banana', 'cherry', 'orange']"
   ]
  },
  {
   "attachments": {},
   "cell_type": "markdown",
   "metadata": {},
   "source": [
    "2. Insert: Inserts an element at a specified position in the list."
   ]
  },
  {
   "cell_type": "code",
   "execution_count": 12,
   "metadata": {},
   "outputs": [
    {
     "name": "stdout",
     "output_type": "stream",
     "text": [
      "['apple', 'orange', 'banana', 'cherry']\n"
     ]
    }
   ],
   "source": [
    "fruits = ['apple', 'banana', 'cherry']\n",
    "fruits.insert(1, 'orange')\n",
    "print(fruits) # Output: ['apple', 'orange', 'banana', 'cherry']\n"
   ]
  },
  {
   "attachments": {},
   "cell_type": "markdown",
   "metadata": {},
   "source": [
    "3. Remove: Removes the first occurrence of the specified element in the list."
   ]
  },
  {
   "cell_type": "code",
   "execution_count": 13,
   "metadata": {},
   "outputs": [
    {
     "name": "stdout",
     "output_type": "stream",
     "text": [
      "['apple', 'cherry']\n"
     ]
    }
   ],
   "source": [
    "fruits = ['apple', 'banana', 'cherry']\n",
    "fruits.remove('banana')\n",
    "print(fruits) # Output: ['apple', 'cherry']\n"
   ]
  },
  {
   "attachments": {},
   "cell_type": "markdown",
   "metadata": {},
   "source": [
    "4. Pop: Removes and returns the element at the specified position in the list. If no index is specified, it removes and returns the last element."
   ]
  },
  {
   "cell_type": "code",
   "execution_count": 14,
   "metadata": {},
   "outputs": [
    {
     "name": "stdout",
     "output_type": "stream",
     "text": [
      "cherry\n",
      "banana\n",
      "['apple']\n"
     ]
    }
   ],
   "source": [
    "fruits = ['apple', 'banana', 'cherry']\n",
    "last_fruit = fruits.pop()\n",
    "print(last_fruit) # Output: 'cherry'\n",
    "second_fruit = fruits.pop(1)\n",
    "print(second_fruit) # Output: 'banana'\n",
    "print(fruits) # Output: ['apple']\n"
   ]
  },
  {
   "attachments": {},
   "cell_type": "markdown",
   "metadata": {},
   "source": [
    "5. Index: Returns the index of the first occurrence of the specified element in the list."
   ]
  },
  {
   "cell_type": "code",
   "execution_count": 15,
   "metadata": {},
   "outputs": [
    {
     "name": "stdout",
     "output_type": "stream",
     "text": [
      "1\n"
     ]
    }
   ],
   "source": [
    "fruits = ['apple', 'banana', 'cherry']\n",
    "index = fruits.index('banana')\n",
    "print(index) # Output: 1\n"
   ]
  },
  {
   "attachments": {},
   "cell_type": "markdown",
   "metadata": {},
   "source": [
    "6. Count: Returns the number of times the specified element appears in the list."
   ]
  },
  {
   "cell_type": "code",
   "execution_count": 16,
   "metadata": {},
   "outputs": [
    {
     "name": "stdout",
     "output_type": "stream",
     "text": [
      "2\n"
     ]
    }
   ],
   "source": [
    "fruits = ['apple', 'banana', 'cherry', 'banana']\n",
    "count = fruits.count('banana')\n",
    "print(count) # Output: 2\n"
   ]
  },
  {
   "attachments": {},
   "cell_type": "markdown",
   "metadata": {},
   "source": [
    "7. Sort: Sorts the list in ascending order."
   ]
  },
  {
   "cell_type": "code",
   "execution_count": 17,
   "metadata": {},
   "outputs": [
    {
     "name": "stdout",
     "output_type": "stream",
     "text": [
      "[1, 1, 2, 3, 3, 4, 5, 5, 5, 6, 9]\n"
     ]
    }
   ],
   "source": [
    "numbers = [3, 1, 4, 1, 5, 9, 2, 6, 5, 3, 5]\n",
    "numbers.sort()\n",
    "print(numbers) # Output: [1, 1, 2, 3, 3, 4, 5, 5, 5, 6, 9]\n"
   ]
  },
  {
   "attachments": {},
   "cell_type": "markdown",
   "metadata": {},
   "source": [
    "8. Reverse: Reverses the order of the elements in the list."
   ]
  },
  {
   "cell_type": "code",
   "execution_count": 18,
   "metadata": {},
   "outputs": [
    {
     "name": "stdout",
     "output_type": "stream",
     "text": [
      "[5, 4, 3, 2, 1]\n"
     ]
    }
   ],
   "source": [
    "numbers = [1, 2, 3, 4, 5]\n",
    "numbers.reverse()\n",
    "print(numbers) # Output: [5, 4, 3, 2, 1]\n"
   ]
  },
  {
   "attachments": {},
   "cell_type": "markdown",
   "metadata": {},
   "source": [
    "9. Len:Retrurns the length of the list"
   ]
  },
  {
   "cell_type": "code",
   "execution_count": 19,
   "metadata": {},
   "outputs": [
    {
     "data": {
      "text/plain": [
       "5"
      ]
     },
     "execution_count": 19,
     "metadata": {},
     "output_type": "execute_result"
    }
   ],
   "source": [
    "num=[1,2,3,4,5]\n",
    "len(num)"
   ]
  },
  {
   "attachments": {},
   "cell_type": "markdown",
   "metadata": {},
   "source": [
    "### **Dictionary**\n",
    "In Python, a dictionary is an unordered collection of items that are stored in key-value pairs. Each key-value pair in the dictionary is separated by a colon ':' and the pairs are separated by commas ','. Dictionaries are denoted by curly braces {}.\n",
    "\n",
    "**Keys must be of immutable datatypes**\n",
    "Here's an example of a dictionary in Python:"
   ]
  },
  {
   "cell_type": "code",
   "execution_count": 20,
   "metadata": {},
   "outputs": [],
   "source": [
    "my_dict = {'name': 'John', 'age': 25, 'gender': 'Male'}"
   ]
  },
  {
   "attachments": {},
   "cell_type": "markdown",
   "metadata": {},
   "source": [
    "In the above example, `name`, `age`, and `gender` are keys and their respective values are `'John'`, `25`, and `'Male'`.\n",
    "\n",
    "To access values in a dictionary, we can use the keys as shown below:\n"
   ]
  },
  {
   "cell_type": "code",
   "execution_count": 21,
   "metadata": {},
   "outputs": [
    {
     "name": "stdout",
     "output_type": "stream",
     "text": [
      "John\n"
     ]
    }
   ],
   "source": [
    "# Accessing the value of the 'name' key\n",
    "print(my_dict['name'])  # Output: John"
   ]
  },
  {
   "attachments": {},
   "cell_type": "markdown",
   "metadata": {},
   "source": [
    "To change the value of a key in a dictionary, we can simply access it and assign a new value to it as shown below:"
   ]
  },
  {
   "cell_type": "code",
   "execution_count": 22,
   "metadata": {},
   "outputs": [
    {
     "name": "stdout",
     "output_type": "stream",
     "text": [
      "{'name': 'John', 'age': 30, 'gender': 'Male'}\n"
     ]
    }
   ],
   "source": [
    "# Changing the value of the 'age' key\n",
    "my_dict['age'] = 30\n",
    "\n",
    "# Printing the updated dictionary\n",
    "print(my_dict)  # Output: {'name': 'John', 'age': 30, 'gender': 'Male'}"
   ]
  },
  {
   "attachments": {},
   "cell_type": "markdown",
   "metadata": {},
   "source": [
    "Some important inbuilt functions of dictionaries in Python are:\n",
    "\n",
    "1. `len()` - returns the number of key-value pairs in the dictionary."
   ]
  },
  {
   "cell_type": "code",
   "execution_count": 23,
   "metadata": {},
   "outputs": [
    {
     "name": "stdout",
     "output_type": "stream",
     "text": [
      "3\n"
     ]
    }
   ],
   "source": [
    "# Finding the length of the dictionary\n",
    "print(len(my_dict))  # Output: 3"
   ]
  },
  {
   "attachments": {},
   "cell_type": "markdown",
   "metadata": {},
   "source": [
    "2. `keys()` - returns a list of all the keys in the dictionary."
   ]
  },
  {
   "cell_type": "code",
   "execution_count": 24,
   "metadata": {},
   "outputs": [
    {
     "name": "stdout",
     "output_type": "stream",
     "text": [
      "dict_keys(['name', 'age', 'gender'])\n"
     ]
    }
   ],
   "source": [
    "# Finding all the keys in the dictionary\n",
    "print(my_dict.keys())  # Output: dict_keys(['name', 'age', 'gender'])"
   ]
  },
  {
   "attachments": {},
   "cell_type": "markdown",
   "metadata": {},
   "source": [
    "3. `values()` - returns a list of all the values in the dictionary.\n"
   ]
  },
  {
   "cell_type": "code",
   "execution_count": 25,
   "metadata": {},
   "outputs": [
    {
     "name": "stdout",
     "output_type": "stream",
     "text": [
      "dict_values(['John', 30, 'Male'])\n"
     ]
    }
   ],
   "source": [
    "# Finding all the values in the dictionary\n",
    "print(my_dict.values())  # Output: dict_values(['John', 30, 'Male'])\n"
   ]
  },
  {
   "attachments": {},
   "cell_type": "markdown",
   "metadata": {},
   "source": [
    "\n",
    "4. `items()` - returns a list of all the key-value pairs in the dictionary as tuples."
   ]
  },
  {
   "cell_type": "code",
   "execution_count": 26,
   "metadata": {},
   "outputs": [
    {
     "name": "stdout",
     "output_type": "stream",
     "text": [
      "dict_items([('name', 'John'), ('age', 30), ('gender', 'Male')])\n"
     ]
    }
   ],
   "source": [
    "# Finding all the key-value pairs in the dictionary\n",
    "print(my_dict.items())  # Output: dict_items([('name', 'John'), ('age', 30), ('gender', 'Male')])"
   ]
  },
  {
   "attachments": {},
   "cell_type": "markdown",
   "metadata": {},
   "source": [
    "5. get(key[, default_values])"
   ]
  },
  {
   "cell_type": "code",
   "execution_count": 27,
   "metadata": {},
   "outputs": [
    {
     "name": "stdout",
     "output_type": "stream",
     "text": [
      "John\n",
      "None Unknown Key\n"
     ]
    }
   ],
   "source": [
    "print(my_dict.get(\"name\"))\n",
    "print(my_dict.get(\"nam\"),\"Unknown Key\")\n",
    "\n"
   ]
  },
  {
   "attachments": {},
   "cell_type": "markdown",
   "metadata": {},
   "source": [
    "6. **del dict[key]**"
   ]
  },
  {
   "cell_type": "code",
   "execution_count": 28,
   "metadata": {},
   "outputs": [],
   "source": [
    "del my_dict['name']\n"
   ]
  },
  {
   "attachments": {},
   "cell_type": "markdown",
   "metadata": {},
   "source": [
    "6.1 We can also make use  of dict.pop(key)"
   ]
  },
  {
   "cell_type": "code",
   "execution_count": 29,
   "metadata": {},
   "outputs": [
    {
     "data": {
      "text/plain": [
       "{'age': 30, 'gender': 'Male'}"
      ]
     },
     "execution_count": 29,
     "metadata": {},
     "output_type": "execute_result"
    }
   ],
   "source": [
    "my_dict"
   ]
  },
  {
   "attachments": {},
   "cell_type": "markdown",
   "metadata": {},
   "source": [
    "7. **clear()** : Removes all the key values pairs"
   ]
  },
  {
   "cell_type": "code",
   "execution_count": 30,
   "metadata": {},
   "outputs": [
    {
     "name": "stdout",
     "output_type": "stream",
     "text": [
      "{}\n"
     ]
    }
   ],
   "source": [
    "my_dict.clear()\n",
    "print(my_dict)"
   ]
  },
  {
   "attachments": {},
   "cell_type": "markdown",
   "metadata": {},
   "source": [
    "### Builtin Counstructors for creating dict and list\n",
    "dict(view)\n",
    "list(items)"
   ]
  },
  {
   "cell_type": "code",
   "execution_count": 31,
   "metadata": {},
   "outputs": [
    {
     "name": "stdout",
     "output_type": "stream",
     "text": [
      "['name', 'age', 'gender']\n",
      "[('name', 'John'), ('age', 30), ('gender', 'Male')]\n"
     ]
    },
    {
     "data": {
      "text/plain": [
       "list"
      ]
     },
     "execution_count": 31,
     "metadata": {},
     "output_type": "execute_result"
    }
   ],
   "source": [
    "print(list({'name': 'John', 'age': 30, 'gender': 'Male'}))\n",
    "a={'name': 'John', 'age': 30, 'gender': 'Male'}\n",
    "b=list(a.items())\n",
    "print(b)\n",
    "type(b)\n"
   ]
  },
  {
   "cell_type": "code",
   "execution_count": 32,
   "metadata": {},
   "outputs": [
    {
     "data": {
      "text/plain": [
       "{'name': 'John', 'age': 30, 'gender': 'Male'}"
      ]
     },
     "execution_count": 32,
     "metadata": {},
     "output_type": "execute_result"
    }
   ],
   "source": [
    "dict(b)"
   ]
  },
  {
   "attachments": {},
   "cell_type": "markdown",
   "metadata": {},
   "source": [
    "### **Tuples**\n",
    "A tuple is a collection of ordered, **immutable**, and heterogeneous elements enclosed within parentheses (). Once a tuple is created, its elements cannot be modified.\n",
    "\n",
    "Accesing the elements is similar to that of lists.\n",
    "\n",
    "Tuples also have inbuilt functions and operations, such as:\n",
    "\n",
    "- len(): returns the number of elements in the tuple.\n",
    "- count(): returns the number of occurrences of a specified element in the tuple.\n",
    "- index(): returns the index of the first occurrence of a specified element in the tuple.\n",
    "- '+' operator: concatenates two tuples.\n",
    "- '*' operator: repeats the elements of a tuple a specified number of times.\n",
    "\n",
    "**Note**: To create a tuple with only a single element we must add a **','** after the elements. For eg. \n",
    "```\n",
    "a=(1,) #tuple with single element\n",
    "b=(1)  #just an interger of value 1\n"
   ]
  },
  {
   "cell_type": "code",
   "execution_count": 33,
   "metadata": {},
   "outputs": [
    {
     "name": "stdout",
     "output_type": "stream",
     "text": [
      "4\n",
      "2\n",
      "2\n",
      "('apple', 'banana', 'cherry', 'apple', 'orange', 'grape')\n",
      "('orange', 'grape', 'orange', 'grape', 'orange', 'grape')\n"
     ]
    }
   ],
   "source": [
    "my_tuple = (\"apple\", \"banana\", \"cherry\", \"apple\")\n",
    "print(len(my_tuple))             # Output: 4\n",
    "print(my_tuple.count(\"apple\"))   # Output: 2\n",
    "print(my_tuple.index(\"cherry\"))  # Output: 2\n",
    "\n",
    "my_new_tuple = (\"orange\", \"grape\")\n",
    "print(my_tuple + my_new_tuple)   # Output: (\"apple\", \"banana\", \"cherry\", \"apple\", \"orange\", \"grape\")\n",
    "print(my_new_tuple * 3)          # Output: (\"orange\", \"grape\", \"orange\", \"grape\", \"orange\", \"grape\")\n"
   ]
  },
  {
   "attachments": {},
   "cell_type": "markdown",
   "metadata": {},
   "source": [
    "### **Sets**\n",
    "\n",
    "A set is a collection of unique and unordered elements enclosed in curly braces {}. Sets are mutable, which means that you can add or remove elements from them after their creation.\n",
    "\n",
    "Here are some ways to create sets in Python:"
   ]
  },
  {
   "cell_type": "code",
   "execution_count": 34,
   "metadata": {},
   "outputs": [],
   "source": [
    "# empty set\n",
    "my_set = set()\n",
    "\n",
    "# set of integers\n",
    "my_set = {1, 2, 3, 4, 5}\n",
    "\n",
    "# set of mixed data types\n",
    "my_set = {'apple', 2.5, (1, 2, 3)}\n"
   ]
  },
  {
   "attachments": {},
   "cell_type": "markdown",
   "metadata": {},
   "source": [
    "- Accessing values in a set can be done using a loop or the in keyword, which checks if an element is present in the set or not."
   ]
  },
  {
   "cell_type": "code",
   "execution_count": 35,
   "metadata": {},
   "outputs": [
    {
     "name": "stdout",
     "output_type": "stream",
     "text": [
      "2.5\n",
      "apple\n",
      "(1, 2, 3)\n",
      "apple is present in the set\n"
     ]
    }
   ],
   "source": [
    "# loop through the set and print its elements\n",
    "my_set = {'apple', 2.5, (1, 2, 3)}\n",
    "for element in my_set:\n",
    "    print(element)\n",
    "\n",
    "# check if an element is present in the set\n",
    "if 'apple' in my_set:\n",
    "    print('apple is present in the set')\n"
   ]
  },
  {
   "attachments": {},
   "cell_type": "markdown",
   "metadata": {},
   "source": [
    "- You can add elements to a set using the add() method, remove elements using the remove() or discard() method, and empty the set using the clear() method."
   ]
  },
  {
   "cell_type": "code",
   "execution_count": 36,
   "metadata": {},
   "outputs": [],
   "source": [
    "my_set = {'apple', 2.5, (1, 2, 3)}\n",
    "# add an element to the set\n",
    "my_set.add(6)\n",
    "\n",
    "# remove an element from the set\n",
    "my_set.remove(2.5)\n",
    "\n",
    "# empty the set\n",
    "my_set.clear()\n"
   ]
  },
  {
   "attachments": {},
   "cell_type": "markdown",
   "metadata": {},
   "source": [
    "- Some useful inbuilt functions on sets are union(), intersection(), difference(), and symmetric_difference(). These functions are used to perform set operations like union, intersection, difference, and symmetric difference, respectively."
   ]
  },
  {
   "cell_type": "code",
   "execution_count": 37,
   "metadata": {},
   "outputs": [
    {
     "name": "stdout",
     "output_type": "stream",
     "text": [
      "{1, 2, 3, 4, 5, 6}\n",
      "{3, 4}\n",
      "{1, 2}\n",
      "{1, 2, 5, 6}\n"
     ]
    }
   ],
   "source": [
    "# create two sets\n",
    "set1 = {1, 2, 3, 4}\n",
    "set2 = {3, 4, 5, 6}\n",
    "\n",
    "# perform union operation\n",
    "union_set = set1.union(set2)\n",
    "print(union_set) # output: {1, 2, 3, 4, 5, 6}\n",
    "\n",
    "# perform intersection operation\n",
    "intersection_set = set1.intersection(set2)\n",
    "print(intersection_set) # output: {3, 4}\n",
    "\n",
    "# perform difference operation\n",
    "difference_set = set1.difference(set2)\n",
    "print(difference_set) # output: {1, 2}\n",
    "\n",
    "# perform symmetric difference operation\n",
    "symmetric_difference_set = set1.symmetric_difference(set2)\n",
    "print(symmetric_difference_set) # output: {1, 2, 5, 6}\n"
   ]
  },
  {
   "attachments": {},
   "cell_type": "markdown",
   "metadata": {},
   "source": [
    "## **Operators**\n",
    "\n",
    "- **Arithmetic Operators**\n",
    "    - `+` (Addition): Adds two numbers.\n",
    "      - Example: `5 + 3` results in `8`\n",
    "    - `-` (Subtraction): Subtracts the second operand from the first.\n",
    "      - Example: `5 - 3` results in `2`\n",
    "    - `*` (Multiplication): Multiplies two numbers.\n",
    "      - Example: `5 * 3` results in `15`\n",
    "    - `/` (Division): Divides the first operand by the second, resulting in a float.\n",
    "      - Example: `5 / 3` results in `1.666...`\n",
    "    - `//` (Floor Division): Divides and rounds down to the nearest integer.\n",
    "      - Example: `5 // 3` results in `1`\n",
    "    - `%` (Modulo): Returns the remainder of a division.\n",
    "      - Example: `5 % 3` results in `2`\n",
    "    - `**` (Exponentiation): Raises the first operand to the power of the second.\n",
    "      - Example: `5 ** 3` results in `125`\n",
    "\n",
    "- **Logical Operators**\n",
    "    - `and` (Logical AND): Returns `True` if both operands are true.\n",
    "      - Example: `(5 > 3) and (3 < 4)` results in `True`\n",
    "    - `not` (Logical NOT): Returns `True` if the operand is false.\n",
    "      - Example: `not (5 > 3)` results in `False`\n",
    "    - `or` (Logical OR): Returns `True` if at least one of the operands is true.\n",
    "      - Example: `(5 < 3) or (3 < 4)` results in `True`\n",
    "\n",
    "- **Comparison Operators**\n",
    "    - `>` (Greater Than): Checks if the first operand is greater than the second.\n",
    "      - Example: `5 > 3` results in `True`\n",
    "    - `<` (Less Than): Checks if the first operand is less than the second.\n",
    "      - Example: `5 < 3` results in `False`\n",
    "    - `>=` (Greater Than or Equal To): Checks if the first operand is greater than or equal to the second.\n",
    "      - Example: `5 >= 3` results in `True`\n",
    "    - `<=` (Less Than or Equal To): Checks if the first operand is less than or equal to the second.\n",
    "      - Example: `5 <= 3` results in `False`\n",
    "    - `==` (Equal To): Checks if two operands are equal.\n",
    "      - Example: `5 == 5` results in `True`\n",
    "    - `!=` (Not Equal To): Checks if two operands are not equal.\n",
    "      - Example: `5 != 3` results in `True`"
   ]
  },
  {
   "cell_type": "code",
   "execution_count": 38,
   "metadata": {},
   "outputs": [
    {
     "name": "stdout",
     "output_type": "stream",
     "text": [
      "a/b: 0.5    a%b: 10    a//b: 0\n"
     ]
    }
   ],
   "source": [
    "a=10\n",
    "b=20\n",
    "\n",
    "# difference between /,//,%\n",
    "print(\"a/b:\",a/b,\"   a%b:\",a%b,'   a//b:',a//b)"
   ]
  },
  {
   "attachments": {},
   "cell_type": "markdown",
   "metadata": {},
   "source": [
    "## **Conditional Statements**\n",
    "\n",
    "- **if**: Used to evaluate a condition. If the condition is `True`, the code block under the `if` statement is executed.\n",
    "\n",
    "- **elif** (else if): Used after an `if` statement to check additional conditions if the previous condition was `False`. Only the first `True` condition in an `if-elif` chain is executed.\n",
    "\n",
    "- **else**: Executed when all preceding `if` and `elif` conditions are `False`. The `else` block provides a default action if no conditions are met. \n",
    "\n",
    "These statements allow for decision-making in Python code by executing specific blocks based on different conditions."
   ]
  },
  {
   "cell_type": "code",
   "execution_count": 39,
   "metadata": {},
   "outputs": [
    {
     "name": "stdout",
     "output_type": "stream",
     "text": [
      "Goodbye\n"
     ]
    }
   ],
   "source": [
    "if a==b:\n",
    "    print(\"Hello\")\n",
    "\n",
    "elif a<b:\n",
    "    print(\"Goodbye\")\n",
    "else:\n",
    "    print(\"Sorry\")"
   ]
  },
  {
   "attachments": {},
   "cell_type": "markdown",
   "metadata": {},
   "source": [
    "## **Looping**\n",
    "\n",
    "### **For Loop**\n",
    "\n",
    "- A `for` loop is used to iterate over a sequence (like a list, tuple, dictionary, set, or string) or any iterable object. The loop executes the code block for each item in the sequence.\n",
    "\n",
    "- **Syntax**:\n",
    "  ```python\n",
    "  for variable in sequence:\n",
    "      # code block to execute\n",
    "  ```\n"
   ]
  },
  {
   "cell_type": "code",
   "execution_count": 40,
   "metadata": {},
   "outputs": [
    {
     "name": "stdout",
     "output_type": "stream",
     "text": [
      "1\n",
      "2\n",
      "3\n",
      "4\n",
      "5\n",
      "h\n",
      "e\n",
      "l\n",
      "l\n",
      "o\n"
     ]
    }
   ],
   "source": [
    "# Iterate over a list\n",
    "numbers = [1, 2, 3, 4, 5]\n",
    "for num in numbers:\n",
    "    print(num)\n",
    "    \n",
    "# Iterate over a string\n",
    "word = \"hello\"\n",
    "for letter in word:\n",
    "    print(letter)\n",
    "\n"
   ]
  },
  {
   "attachments": {},
   "cell_type": "markdown",
   "metadata": {},
   "source": [
    "We can also use for loop along with range(start,stop,step)\n",
    "\n",
    "**Note**\n",
    "    - Here start and step indexes are  optional."
   ]
  },
  {
   "cell_type": "code",
   "execution_count": 41,
   "metadata": {},
   "outputs": [
    {
     "name": "stdout",
     "output_type": "stream",
     "text": [
      "0\n",
      "1\n",
      "2\n",
      "3\n",
      "4\n",
      "1,3,5,7,9,"
     ]
    }
   ],
   "source": [
    "for i in range(5): #from 0 to 9\n",
    "    print(i)\n",
    "\n",
    "for i in range(1,10,2): #from 1 to 9 with step of 2\n",
    "    print(i,end=\",\")"
   ]
  },
  {
   "attachments": {},
   "cell_type": "markdown",
   "metadata": {},
   "source": [
    "\n",
    "### **While Loop**\n",
    "\n",
    "- A `while` loop repeatedly executes the code block as long as a specified condition is `True`. The loop checks the condition before each iteration.\n",
    "\n",
    "- **Syntax**:\n",
    "  ```python\n",
    "  while condition:\n",
    "      # code block to execute\n",
    "  ```"
   ]
  },
  {
   "cell_type": "code",
   "execution_count": 42,
   "metadata": {},
   "outputs": [
    {
     "name": "stdout",
     "output_type": "stream",
     "text": [
      "1\n",
      "2\n",
      "3\n",
      "4\n",
      "5\n"
     ]
    }
   ],
   "source": [
    "# Print numbers from 1 to 5 using a while loop\n",
    "i = 1\n",
    "while i <= 5:\n",
    "    print(i)\n",
    "    i += 1\n"
   ]
  },
  {
   "attachments": {},
   "cell_type": "markdown",
   "metadata": {},
   "source": [
    "## Special and important keywords\n",
    "\n",
    "1. **in**: The in keyword is used to check if an item is present in a sequence (such as a string, list, or tuple). Here's an example:"
   ]
  },
  {
   "cell_type": "code",
   "execution_count": 43,
   "metadata": {},
   "outputs": [
    {
     "name": "stdout",
     "output_type": "stream",
     "text": [
      "3 is present in the list\n"
     ]
    }
   ],
   "source": [
    "my_list = [1, 2, 3, 4, 5]\n",
    "if 3 in my_list:\n",
    "    print(\"3 is present in the list\")\n",
    "else:\n",
    "    print(\"3 is not present in the list\")\n"
   ]
  },
  {
   "attachments": {},
   "cell_type": "markdown",
   "metadata": {},
   "source": [
    "2. **break**:The break keyword is used to break out of a loop prematurely. Here's an example:"
   ]
  },
  {
   "cell_type": "code",
   "execution_count": 44,
   "metadata": {},
   "outputs": [
    {
     "name": "stdout",
     "output_type": "stream",
     "text": [
      "1\n",
      "2\n",
      "3\n",
      "4\n"
     ]
    }
   ],
   "source": [
    "for i in range(1, 11):\n",
    "    if i == 5:\n",
    "        break\n",
    "    print(i)\n"
   ]
  },
  {
   "attachments": {},
   "cell_type": "markdown",
   "metadata": {},
   "source": [
    "3. **continue**:The continue keyword is used to skip the current iteration of a loop and move on to the next one. Here's an example:"
   ]
  },
  {
   "cell_type": "code",
   "execution_count": 45,
   "metadata": {},
   "outputs": [
    {
     "name": "stdout",
     "output_type": "stream",
     "text": [
      "1\n",
      "3\n",
      "5\n",
      "7\n",
      "9\n"
     ]
    }
   ],
   "source": [
    "for i in range(1, 11):\n",
    "    if i % 2 == 0:\n",
    "        continue\n",
    "    print(i)\n"
   ]
  },
  {
   "attachments": {},
   "cell_type": "markdown",
   "metadata": {},
   "source": [
    "4. **pass**:The pass keyword is used as a placeholder when you need to have a statement that does nothing. Here's an example:\n"
   ]
  },
  {
   "cell_type": "code",
   "execution_count": 46,
   "metadata": {},
   "outputs": [],
   "source": [
    "for i in range(1, 11):\n",
    "    pass\n"
   ]
  },
  {
   "attachments": {},
   "cell_type": "markdown",
   "metadata": {},
   "source": [
    "## **Functions**\n",
    "\n",
    "Functions are reusable blocks of code that perform a specific task.They are defined using the **def** keyword.\n",
    "\n",
    "The syntax is:\n",
    "\n",
    "```python\n",
    "def function_name(parameter(s)) :\n",
    "    function_definition\n",
    "    return #optional\n",
    "```"
   ]
  },
  {
   "cell_type": "code",
   "execution_count": 47,
   "metadata": {},
   "outputs": [
    {
     "name": "stdout",
     "output_type": "stream",
     "text": [
      "Hello\n"
     ]
    }
   ],
   "source": [
    "def hello():\n",
    "    print(\"Hello\")\n",
    "\n",
    "hello() #function call"
   ]
  },
  {
   "attachments": {},
   "cell_type": "markdown",
   "metadata": {},
   "source": [
    "We can return any type of value from functions or not return anuything. The function definition edns when it encounters a return statement or the next statemnt is not inside its indentation.\n",
    "\n",
    "\n",
    "Use of **global** keyword:\n",
    "\n",
    "A global keyword is used to indicate that the variable is a global variable , it can be accessed and modified in any part of the code."
   ]
  },
  {
   "cell_type": "code",
   "execution_count": 48,
   "metadata": {},
   "outputs": [
    {
     "name": "stdout",
     "output_type": "stream",
     "text": [
      "X before function call: 10 Y before function call: 20\n",
      "X after function call: 20 Y after function call: 20\n"
     ]
    }
   ],
   "source": [
    "x=10\n",
    "y=20\n",
    "\n",
    "print(\"X before function call:\",x,\"Y before function call:\",y)\n",
    "\n",
    "def abc():\n",
    "    global x\n",
    "    x=20\n",
    "    y=30\n",
    "\n",
    "abc()\n",
    "\n",
    "print(\"X after function call:\",x,\"Y after function call:\",y)"
   ]
  },
  {
   "attachments": {},
   "cell_type": "markdown",
   "metadata": {},
   "source": [
    "In Python, passing arguments to a function can be done either by value or by reference. When a function is called, the actual value of the argument is passed to the function as a parameter. In case of passing an immutable object like a number, string, or tuple, the function receives a copy of the value and any changes made to the parameter inside the function have no effect on the original value.\n",
    "\n",
    "\n",
    "However, when passing a mutable object like a list, dictionary or set, the function receives a reference to the object and any changes made to the object inside the function will be reflected in the original object"
   ]
  },
  {
   "cell_type": "code",
   "execution_count": 49,
   "metadata": {},
   "outputs": [
    {
     "name": "stdout",
     "output_type": "stream",
     "text": [
      "[1, 2, 3, 4, 5] hello\n"
     ]
    }
   ],
   "source": [
    "def change_list(list1,str1):\n",
    "    list1.append(4)\n",
    "    list1.append(5)\n",
    "    str1=\"wht\"\n",
    "str=\"hello\"\n",
    "my_list = [1, 2, 3]\n",
    "change_list(my_list,str)\n",
    "print(my_list,str) # Output: [1, 2, 3, 4, 5]"
   ]
  },
  {
   "attachments": {},
   "cell_type": "markdown",
   "metadata": {},
   "source": [
    "## **Lambda**\n",
    "Lambda is a keyword in Python used to define small, anonymous functions. It is also known as a lambda function. It is an expression that returns a function object.\n",
    "\n",
    "The syntax of a lambda function is as follows:\n",
    "\n",
    "```python \n",
    "lambda arguments : expression\n",
    "```\n",
    "\n",
    "The arguments are the inputs to the function, and the expression is the operation performed on the arguments.\n",
    "\n",
    "Here is an example of a lambda function that adds two numbers:\n"
   ]
  },
  {
   "cell_type": "code",
   "execution_count": 50,
   "metadata": {},
   "outputs": [
    {
     "name": "stdout",
     "output_type": "stream",
     "text": [
      "15\n"
     ]
    }
   ],
   "source": [
    "add_numbers = lambda x, y: x + y\n",
    "print(add_numbers(5, 10)) # Output: 15\n"
   ]
  },
  {
   "attachments": {},
   "cell_type": "markdown",
   "metadata": {},
   "source": [
    "Lambda functions are commonly used as arguments to higher-order functions that take a function as input. For example, the built-in map() function can be used with a lambda function to apply the function to every element of an iterable.\n",
    "\n",
    "Here is an example of using a lambda function with map() to square each element of a list:"
   ]
  },
  {
   "cell_type": "code",
   "execution_count": 51,
   "metadata": {},
   "outputs": [
    {
     "name": "stdout",
     "output_type": "stream",
     "text": [
      "[1, 4, 9, 16, 25]\n"
     ]
    }
   ],
   "source": [
    "numbers = [1, 2, 3, 4, 5]\n",
    "squared = list(map(lambda x: x**2, numbers))\n",
    "print(squared) #Output:[1, 4, 9, 16, 25]\n"
   ]
  },
  {
   "attachments": {},
   "cell_type": "markdown",
   "metadata": {},
   "source": [
    "## **Exception handling**\n",
    "\n",
    "\n",
    "1. **Exceptions**:\n",
    "   - Exceptions are events that occur during the execution of a program that disrupt the normal flow of the program.\n",
    "   - When an exceptional situation arises, an exception is raised, and the program's control flow is transferred to an exception handler.\n",
    "   - Exceptions help handle errors, respond to unexpected situations, and provide a mechanism for graceful program termination.\n",
    "\n",
    "2. **Default Exceptions**:\n",
    "   - Python provides a set of built-in exceptions to handle common errors and exceptional conditions.\n",
    "   - Examples of default exceptions include `ZeroDivisionError`, `TypeError`, `FileNotFoundError`, `ValueError`, and `IndexError`.\n",
    "   - Each exception has a specific meaning and can be caught and handled independently.\n",
    "\n",
    "3. **Creating Custom Exceptions**:\n",
    "   - Python allows you to define custom exceptions to represent specific error conditions in your program.\n",
    "   - Custom exceptions are created by defining new classes that inherit from the *Exception* class or its subclasses.\n",
    "   - By creating custom exceptions, you can encapsulate specialized error handling logic and improve code readability.\n",
    "\n",
    "   ```python\n",
    "   class CustomError(Exception):\n",
    "       pass\n",
    "\n",
    "   class CustomValueError(ValueError):\n",
    "       pass\n",
    "\n",
    "   # Usage\n",
    "   def validate_age(age):\n",
    "       if age < 0:\n",
    "           raise CustomValueError(\"Invalid age value: age must be non-negative.\")\n",
    "   ```\n",
    "\n",
    "4. **Handling Exceptions**:\n",
    "   - Exceptions can be handled using the `try-except` statement.\n",
    "   - The `try` block contains the code that may raise an exception, and the `except` block specifies the exception(s) to catch and how to handle them.\n",
    "   - Multiple `except` blocks can be used to handle different exceptions separately.\n",
    "   - Certainly! The `finally` block is a part of the `try-except` statement in Python that allows you to specify code that will be executed    regardless of whether an exception occurs or not. The `finally` block is optional and follows the `try` and `except` blocks.\n",
    "\n",
    "    The purpose of the `finally` block is to provide a place to clean up resources or perform any necessary actions that should always occur, regardless of whether an exception is raised or not. It ensures that certain code is executed even if an exception is raised and caught by an `except` block.\n",
    "\n",
    "    Here is the structure of a `try-except-finally` statement:\n",
    "\n",
    "    ```python\n",
    "    try:\n",
    "        # Code that may raise an exception\n",
    "        # ...\n",
    "    except ExceptionType:\n",
    "        # Exception handling code\n",
    "        # ...\n",
    "    finally:\n",
    "        # Code that will always be executed, regardless of whether an exception occurred or not\n",
    "        # ...\n",
    "    ```"
   ]
  },
  {
   "cell_type": "markdown",
   "metadata": {},
   "source": [
    "a. **Basic Exception Handling**\n",
    "\n",
    "```python\n",
    "try:\n",
    "    numerator = 10\n",
    "    denominator = 0\n",
    "    result = numerator / denominator  # This will raise a ZeroDivisionError\n",
    "except ZeroDivisionError as e:\n",
    "    print(f\"Error: {e}. You cannot divide by zero.\")\n",
    "```\n",
    "\n",
    "b. **Handling Multiple Exceptions**\n",
    "\n",
    "When handling multiple exceptions, you can catch different types of exceptions separately or together. Here’s an example of both methods:\n",
    "\n",
    "- **Separate Handling**\n",
    "\n",
    "    ```python\n",
    "    try:\n",
    "        number = int(input(\"Enter a number: \"))  # This can raise ValueError\n",
    "        result = 10 / number  # This can raise ZeroDivisionError\n",
    "        print(f\"Result: {result}\")\n",
    "    except ValueError as e:\n",
    "        print(f\"Value Error: {e}. Please enter a valid integer.\")\n",
    "    except ZeroDivisionError as e:\n",
    "        print(f\"Zero Division Error: {e}. You cannot divide by zero.\")\n",
    "    ```\n",
    "\n",
    "- **Combined Handling**\n",
    "\n",
    "    You can also handle multiple exceptions in a single `except` block by providing a tuple of exception types.\n",
    "\n",
    "    ```python\n",
    "    try:\n",
    "        number = int(input(\"Enter a number: \"))  # This can raise ValueError\n",
    "        result = 10 / number  # This can raise ZeroDivisionError\n",
    "        print(f\"Result: {result}\")\n",
    "    except (ValueError, ZeroDivisionError) as e:\n",
    "        print(f\"An error occurred: {e}. Please enter a valid integer and avoid zero.\")\n",
    "    ```\n",
    "\n",
    "\n",
    "- **Using the `finally` Statement**\n",
    "\n",
    "    The `finally` block is used to execute code regardless of whether an exception occurred or not. It is often used for cleanup actions, such as closing files or releasing resources.\n",
    "\n",
    "    ```python\n",
    "    try:\n",
    "        file = open('data.txt', 'r')\n",
    "        data = file.read()\n",
    "        print(data)\n",
    "    except FileNotFoundError as e:\n",
    "        print(f\"Error: {e}. The file was not found.\")\n",
    "    finally:\n",
    "        print(\"Executing finally block.\")\n",
    "        file.close()  # This will always execute to close the file\n",
    "    ```\n"
   ]
  },
  {
   "cell_type": "markdown",
   "metadata": {},
   "source": [
    "6. **Raising Exceptions**:\n",
    "   - Exceptions can be raised explicitly using the `raise` statement.\n",
    "   - `raise` is followed by an instance of an exception class or an exception object.\n",
    "   - It is useful for indicating exceptional conditions or errors based on specific program logic.\n",
    "\n",
    "   ```python\n",
    "   def validate_input(value):\n",
    "       if not isinstance(value, int):\n",
    "           raise ValueError(\"Input must be an integer.\")\n",
    "       if value < 0:\n",
    "           raise CustomError(\"Invalid input value.\")\n",
    "\n",
    "   try:\n",
    "       validate_input(\"abc\")\n",
    "   except ValueError as ve:\n",
    "       print(\"Validation error:\", str(ve))\n",
    "   except CustomError as ce:\n",
    "       print(\"Custom error:\", str(ce))\n",
    "   ```\n"
   ]
  },
  {
   "cell_type": "markdown",
   "metadata": {},
   "source": [
    "In Python, exceptions are structured in a hierarchy that helps organize the different types of errors that can occur, allowing programmers to handle each error appropriately. At the top of this hierarchy is the `BaseException` class, which all other exceptions inherit from. Here's a more detailed breakdown:\n",
    "\n",
    "### Exception Hierarchy Overview\n",
    "\n",
    "1. **BaseException**: This is the ultimate base class for all exceptions. Directly inheriting from `BaseException` are some special types of exceptions used for system-level events:\n",
    "   - **SystemExit**: Raised by the `sys.exit()` function, used to exit the program.\n",
    "   - **KeyboardInterrupt**: Raised when the user interrupts program execution, typically by pressing `Ctrl+C`.\n",
    "   - **GeneratorExit**: Raised when a generator or coroutine is closed.\n",
    "\n",
    "   `BaseException` and its subclasses represent exceptions that often indicate the program should stop or pause. You generally don’t want to catch these in everyday error handling because they manage system-level events.\n",
    "\n",
    "2. **Exception**: The next level in the hierarchy and the base class for most errors you'll encounter in code. If you write `except Exception`, you can handle most runtime errors without catching `BaseException` subclasses like `SystemExit` and `KeyboardInterrupt`, which is usually what you want.\n",
    "\n",
    "   Inside `Exception`, there are various error categories that group similar types of errors together. These categories include:\n",
    "\n",
    "   - **ArithmeticError**: Base class for errors in arithmetic operations.\n",
    "     - **ZeroDivisionError**: Raised when you attempt to divide by zero.\n",
    "     - **OverflowError**: Raised when a mathematical calculation exceeds the maximum limit for a numeric type.\n",
    "     - **FloatingPointError**: Raised when a floating-point operation fails (this is rarely seen in modern Python).\n",
    "\n",
    "   - **LookupError**: Base class for errors when a look-up operation fails (e.g., trying to access an index or key that doesn’t exist).\n",
    "     - **IndexError**: Raised when a sequence index is out of range.\n",
    "     - **KeyError**: Raised when a dictionary key is not found.\n",
    "\n",
    "   - **ValueError**: Raised when a function receives a valid type argument, but its value is inappropriate (e.g., passing a string to a function that requires an integer).\n",
    "\n",
    "   - **TypeError**: Raised when an operation or function is applied to an object of inappropriate type.\n",
    "\n",
    "   - **ImportError**: Raised when an import statement fails to find the module definition.\n",
    "\n",
    "### How Exception Handling Works\n",
    "\n",
    "When you write `except Exception:`, Python will catch errors derived from `Exception` and ignore `BaseException` errors. This lets you manage most runtime issues without interfering with system-level events.\n",
    "\n",
    "#### Example:\n",
    "```python\n",
    "try:\n",
    "    # Some code that may raise an exception\n",
    "    result = 10 / 0\n",
    "except ZeroDivisionError:\n",
    "    print(\"Cannot divide by zero!\")\n",
    "except Exception as e:\n",
    "    print(f\"An error occurred: {e}\")\n",
    "```\n",
    "\n",
    "In this example:\n",
    "- The `ZeroDivisionError` specifically handles division by zero.\n",
    "- A general `except Exception` would handle any other runtime errors not specifically named.\n",
    "\n",
    "By understanding the exception hierarchy, you can target specific types of errors precisely, avoiding unwanted system-level errors and ensuring smooth control over your code's error-handling behavior."
   ]
  },
  {
   "cell_type": "code",
   "execution_count": 44,
   "metadata": {},
   "outputs": [
    {
     "name": "stdout",
     "output_type": "stream",
     "text": [
      "Error: 'hello' cannot be converted to an integer.\n",
      "Error: Index 10 is out of range.\n",
      "Error: Division by zero is not allowed.\n"
     ]
    }
   ],
   "source": [
    "def process_data(data, index, divisor):\n",
    "    try:\n",
    "        # Attempt to retrieve an item at a specific index\n",
    "        item = data[index]\n",
    "        \n",
    "        # Try to convert item to integer\n",
    "        number = int(item)\n",
    "        \n",
    "        # Attempt division\n",
    "        result = number / divisor\n",
    "        print(f\"Result: {result}\")\n",
    "    \n",
    "    # Specific exception for division errors\n",
    "    except ZeroDivisionError:\n",
    "        print(\"Error: Division by zero is not allowed.\")\n",
    "    \n",
    "    # Specific exception for incorrect index\n",
    "    except IndexError:\n",
    "        print(f\"Error: Index {index} is out of range.\")\n",
    "    \n",
    "    # Specific exception for invalid integer conversion\n",
    "    except ValueError:\n",
    "        print(f\"Error: '{data[index]}' cannot be converted to an integer.\")\n",
    "    \n",
    "    # General exception that catches any other runtime errors\n",
    "    except Exception as e:\n",
    "        print(f\"An unexpected error occurred: {e}\")\n",
    "\n",
    "# Example data\n",
    "data = [\"10\", \"hello\", \"30\"]\n",
    "process_data(data, 1, 5)    # Will raise ValueError\n",
    "process_data(data, 10, 5)   # Will raise IndexError\n",
    "process_data(data, 0, 0)    # Will raise ZeroDivisionError\n"
   ]
  },
  {
   "cell_type": "markdown",
   "metadata": {},
   "source": [
    "#### Explanation:\n",
    "\n",
    "1. **ZeroDivisionError** is a subclass of `ArithmeticError`, which in turn is a subclass of `Exception`. When you call `process_data(data, 0, 0)`, dividing by zero raises `ZeroDivisionError`, which is handled by the specific `except ZeroDivisionError` block.\n",
    "\n",
    "2. **IndexError** is a subclass of `LookupError`, which also inherits from `Exception`. When you call `process_data(data, 10, 5)`, accessing an invalid index raises `IndexError`, which is handled by the specific `except IndexError` block.\n",
    "\n",
    "3. **ValueError** is a direct subclass of `Exception`. When you call `process_data(data, 1, 5)`, attempting to convert the string `\"hello\"` to an integer raises `ValueError`, which is caught by `except ValueError`.\n",
    "\n",
    "4. **Exception** as a general case: If any other unexpected errors occur, they’ll be caught by the generic `except Exception as e` block. This block won't catch system-level exceptions (like `KeyboardInterrupt`) because `Exception` doesn’t inherit from `BaseException`.\n",
    "\n",
    "By structuring `except` blocks this way, Python checks each block from the most specific to the more general. This order is crucial for effective error handling and ensures that each type of error is managed appropriately based on the hierarchy."
   ]
  },
  {
   "cell_type": "code",
   "execution_count": null,
   "metadata": {},
   "outputs": [],
   "source": []
  }
 ],
 "metadata": {
  "kernelspec": {
   "display_name": "Python 3",
   "language": "python",
   "name": "python3"
  },
  "language_info": {
   "codemirror_mode": {
    "name": "ipython",
    "version": 3
   },
   "file_extension": ".py",
   "mimetype": "text/x-python",
   "name": "python",
   "nbconvert_exporter": "python",
   "pygments_lexer": "ipython3",
   "version": "3.12.1"
  },
  "orig_nbformat": 4
 },
 "nbformat": 4,
 "nbformat_minor": 2
}
