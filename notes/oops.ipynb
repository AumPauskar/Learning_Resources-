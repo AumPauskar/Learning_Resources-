{
 "cells": [
  {
   "cell_type": "markdown",
   "metadata": {},
   "source": [
    "# Class\n",
    "A class is a template for creating objects in object-oriented programming. It defines the data and behavior associated with instances of that class2. In general, a class can contain member variables (data) and methods (behavior) that operate on the data. When you create an object from a class, you are instantiating the class and creating an instance of it with its own set of data and behavior.\n",
    "\n",
    "# Object\n",
    "An object is anything that has a fixed shape or form, that you can touch or see, and that is not alive1. In computer science, an object is an instance of a class, which is a blueprint for creating objects with specific properties and behaviors.\n",
    "\n",
    "# Defining a class in python\n",
    "```python\n",
    "class Classname([parent_classname]):\n",
    "    def __init__(self,[parameter(s)]):\n",
    "        [statements]\n",
    "    [other methods]\n",
    "```\n",
    "\n",
    "\n",
    "\n"
   ]
  },
  {
   "cell_type": "code",
   "execution_count": null,
   "metadata": {},
   "outputs": [],
   "source": []
  }
 ],
 "metadata": {
  "language_info": {
   "name": "python"
  },
  "orig_nbformat": 4
 },
 "nbformat": 4,
 "nbformat_minor": 2
}
