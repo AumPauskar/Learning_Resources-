{
 "cells": [
  {
   "cell_type": "markdown",
   "metadata": {},
   "source": [
    "# GUI using Tkinter\n",
    "1. **Introduction to Tkinter**:\n",
    "   - Tkinter is the standard GUI library that comes bundled with Python.\n",
    "   - It provides a set of tools to create GUI applications with windows, dialogs, buttons, labels, textboxes, and more.\n",
    "   - Tkinter is based on the Tcl/Tk GUI toolkit."
   ]
  },
  {
   "cell_type": "markdown",
   "metadata": {},
   "source": [
    "2. **Basic Structure**:\n",
    "   - A Tkinter application usually starts by creating a main application window using the `Tk()` class."
   ]
  },
  {
   "cell_type": "code",
   "execution_count": null,
   "metadata": {},
   "outputs": [],
   "source": [
    "import tkinter as tk\n",
    "\n",
    "# Create the main application window\n",
    "root = tk.Tk()\n",
    "root.title(\"My Tkinter App\")\n",
    "\n",
    "# Add widgets and functionality here\n",
    "\n",
    "# Start the main event loop\n",
    "root.mainloop()\n"
   ]
  },
  {
   "cell_type": "markdown",
   "metadata": {},
   "source": [
    "3. **Widgets**:\n",
    "   - Widgets are the building blocks of a Tkinter interface.\n",
    "   - Common widgets include `Button`, `Label`, `Entry` (for text input), `Text` (for multi-line text), `Canvas` (for drawing), `Frame` (for layout), and more.\n",
    "4. **Geometry Management**:\n",
    "   - Tkinter provides three geometry managers: `pack()`, `grid()`, and `place()` to control the positioning and resizing of widgets within a window.\n",
    "   - `pack()` arranges widgets in a horizontal or vertical stack.\n",
    "   - `grid()` arranges widgets in a grid with rows and columns.\n",
    "   - `place()` allows you to specify exact coordinates for widget placement."
   ]
  },
  {
   "cell_type": "code",
   "execution_count": null,
   "metadata": {},
   "outputs": [],
   "source": [
    "import tkinter as tk\n",
    "\n",
    "def say_hello():\n",
    "    label.config(text=\"Hello, Tkinter!\")\n",
    "\n",
    "root = tk.Tk()\n",
    "root.title(\"Label and Button Example\")\n",
    "\n",
    "label = tk.Label(root, text=\"Welcome to Tkinter\")\n",
    "label.pack()\n",
    "\n",
    "button = tk.Button(root, text=\"Say Hello\", command=say_hello)\n",
    "button.pack()\n",
    "\n",
    "root.mainloop()\n"
   ]
  },
  {
   "cell_type": "code",
   "execution_count": null,
   "metadata": {},
   "outputs": [],
   "source": [
    "import tkinter as tk\n",
    "\n",
    "root = tk.Tk()\n",
    "root.title(\"Grid Layout Example\")\n",
    "\n",
    "label1 = tk.Label(root, text=\"Label 1\")\n",
    "label2 = tk.Label(root, text=\"Label 2\")\n",
    "\n",
    "label1.grid(row=0, column=0)\n",
    "label2.grid(row=1, column=0)\n",
    "\n",
    "root.mainloop()\n"
   ]
  },
  {
   "cell_type": "markdown",
   "metadata": {},
   "source": [
    "5. **Event Handling**:\n",
    "   - Tkinter supports event-driven programming where you define functions to respond to events like button clicks or key presses.\n",
    "   - You can bind functions to events using the `bind()` method or by using the `command` attribute for widgets like buttons.\n"
   ]
  },
  {
   "cell_type": "code",
   "execution_count": null,
   "metadata": {},
   "outputs": [],
   "source": [
    "import tkinter as tk\n",
    "\n",
    "def on_button_click():\n",
    "    label.config(text=\"Button Clicked!\")\n",
    "\n",
    "root = tk.Tk()\n",
    "root.title(\"Event Handling Example\")\n",
    "\n",
    "button = tk.Button(root, text=\"Click Me\", command=on_button_click)\n",
    "button.pack()\n",
    "\n",
    "label = tk.Label(root, text=\"\")\n",
    "label.pack()\n",
    "\n",
    "root.mainloop()\n"
   ]
  },
  {
   "cell_type": "markdown",
   "metadata": {},
   "source": [
    "6. **Layout Management**:\n",
    "   - Tkinter allows you to organize widgets using frames, which act as containers for other widgets.\n",
    "   - Frames can be nested to create more complex layouts.\n",
    "\n",
    "7. **Styling and Appearance**:\n",
    "   - You can configure the appearance of widgets using attributes like `bg` (background color), `fg` (foreground color), `font`, `borderwidth`, and more.\n",
    "   - Tkinter supports basic theming and custom styling.\n",
    "\n",
    "8. **Dialogs and Message Boxes**:\n",
    "   - Tkinter provides built-in dialog boxes for common tasks like opening files (`tkinter.filedialog`), displaying messages (`tkinter.messagebox`), and more.\n",
    "\n",
    "9. **Canvas and Drawing**:\n",
    "   - The `Canvas` widget allows you to draw shapes, lines, text, and images.\n",
    "   - It's often used for creating custom graphics and simple games.\n",
    "\n",
    "10. **Menus and Toolbars**:\n",
    "    - Tkinter supports creating menus and toolbars using the `Menu` widget.\n",
    "    - Menus can be added to windows or other widgets and contain various items like commands and submenus."
   ]
  },
  {
   "cell_type": "code",
   "execution_count": null,
   "metadata": {},
   "outputs": [],
   "source": [
    "import tkinter as tk\n",
    "from tkinter import messagebox\n",
    "\n",
    "def show_about():\n",
    "    messagebox.showinfo(\"About\", \"This is my Tkinter app!\")\n",
    "\n",
    "root = tk.Tk()\n",
    "root.title(\"Menu Example\")\n",
    "\n",
    "menu_bar = tk.Menu(root)\n",
    "root.config(menu=menu_bar)\n",
    "\n",
    "file_menu = tk.Menu(menu_bar, tearoff=0)\n",
    "menu_bar.add_cascade(label=\"File\", menu=file_menu)\n",
    "file_menu.add_command(label=\"Exit\", command=root.quit)\n",
    "\n",
    "help_menu = tk.Menu(menu_bar, tearoff=0)\n",
    "menu_bar.add_cascade(label=\"Help\", menu=help_menu)\n",
    "help_menu.add_command(label=\"About\", command=show_about)\n",
    "\n",
    "root.mainloop()\n"
   ]
  },
  {
   "cell_type": "markdown",
   "metadata": {},
   "source": [
    "11. **Binding Variables**:\n",
    "    - Tkinter offers special variable classes (`StringVar`, `IntVar`, `DoubleVar`, `BooleanVar`) to create two-way bindings between widget values and Python variables.\n",
    "    - Changes in the widget are reflected in the variable and vice versa.\n",
    "\n"
   ]
  },
  {
   "cell_type": "code",
   "execution_count": null,
   "metadata": {},
   "outputs": [],
   "source": [
    "import tkinter as tk\n",
    "\n",
    "def update_label():\n",
    "    label_text.set(\"Value: \" + entry_text.get())\n",
    "\n",
    "root = tk.Tk()\n",
    "root.title(\"Variable Binding Example\")\n",
    "\n",
    "# Creating a StringVar to bind with Entry and Label widgets\n",
    "entry_text = tk.StringVar()\n",
    "label_text = tk.StringVar()\n",
    "\n",
    "entry = tk.Entry(root, textvariable=entry_text)\n",
    "entry.pack()\n",
    "\n",
    "label = tk.Label(root, textvariable=label_text)\n",
    "label.pack()\n",
    "\n",
    "button = tk.Button(root, text=\"Update Label\", command=update_label)\n",
    "button.pack()\n",
    "\n",
    "root.mainloop()\n"
   ]
  },
  {
   "cell_type": "markdown",
   "metadata": {},
   "source": [
    "12. **Threading and Concurrency**:\n",
    "    - Tkinter's main event loop must run in the main thread.\n",
    "    - For long-running tasks, consider using the `threading` module to prevent blocking the GUI."
   ]
  },
  {
   "cell_type": "code",
   "execution_count": null,
   "metadata": {},
   "outputs": [],
   "source": [
    "import tkinter as tk\n",
    "import threading\n",
    "import time\n",
    "\n",
    "def long_running_task():\n",
    "    for _ in range(5):\n",
    "        time.sleep(1)\n",
    "        print(\"Task running...\")\n",
    "\n",
    "def start_task():\n",
    "    thread = threading.Thread(target=long_running_task)\n",
    "    thread.start()\n",
    "\n",
    "root = tk.Tk()\n",
    "root.title(\"Threading Example\")\n",
    "\n",
    "start_button = tk.Button(root, text=\"Start Long Task\", command=start_task)\n",
    "start_button.pack()\n",
    "\n",
    "root.mainloop()\n"
   ]
  },
  {
   "cell_type": "markdown",
   "metadata": {},
   "source": [
    "13. **Documentation and Resources**:\n",
    "    - Official documentation: https://docs.python.org/3/library/tkinter.html\n",
    "    - Numerous tutorials and examples are available online to help you get started with Tkinter."
   ]
  }
 ],
 "metadata": {
  "language_info": {
   "name": "python"
  },
  "orig_nbformat": 4
 },
 "nbformat": 4,
 "nbformat_minor": 2
}
