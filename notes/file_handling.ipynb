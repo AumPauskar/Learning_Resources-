{
 "cells": [
  {
   "attachments": {},
   "cell_type": "markdown",
   "metadata": {},
   "source": [
    "# File Handling\n",
    "\n",
    "**What is a file?**\n",
    "\n",
    "It is used to store information on a persistent basis.\n",
    "\n",
    "## Types of files\n",
    "\n",
    "- Text files: files that make sense to humans.\n",
    "  - Eg. wrd,txt,json,py files\n",
    "- Binary files: Data is written in binary format.\n",
    "  - Eg. mp4, mp3, exe,object files etc.\n",
    "\n",
    "## Text File Handling in python\n",
    "\n",
    "### Open a file\n",
    "\n",
    "```python\n",
    "with open(filename,mode) as file:\n",
    "```\n",
    "In Python, when working with text files, you can specify different modes to control how the file is opened and handled. The modes determine whether the file is read, written, or both, as well as the positioning within the file and other aspects of file handling. Here are the commonly used modes:\n",
    "\n",
    "1. **Read Mode (`'r'`)**: This is the default mode when opening a file. It allows you to read the contents of the file. If the file does not exist, it will raise a `FileNotFoundError` exception. Example:\n",
    "\n",
    "   ```python\n",
    "   file = open('example.txt', 'r')\n",
    "   ```\n",
    "\n",
    "2. **Write Mode (`'w'`)**: This mode is used to write data to a file. If the file already exists, it will be truncated (emptied) before writing the new data. If the file does not exist, a new file will be created. Example:\n",
    "\n",
    "   ```python\n",
    "   file = open('example.txt', 'w')\n",
    "   ```\n",
    "\n",
    "3. **Append Mode (`'a'`)**: This mode allows you to append data to an existing file. If the file does not exist, a new file will be created. Example:\n",
    "\n",
    "   ```python\n",
    "   file = open('example.txt', 'a')\n",
    "   ```\n",
    "\n",
    "4. **Read and Write Mode (`'r+'`)**: This mode allows both reading and writing operations on a file. It opens the file in a way that allows you to read from any position and write to any position. Example:\n",
    "\n",
    "   ```python\n",
    "   file = open('example.txt', 'r+')\n",
    "   ```\n",
    "\n",
    "5. **Write and Read Mode (`'w+'`)**: This mode allows both reading and writing operations, similar to `'r+'`. However, it truncates the file if it exists, just like `'w'` mode. Example:\n",
    "\n",
    "   ```python\n",
    "   file = open('example.txt', 'w+')\n",
    "   ```\n",
    "\n",
    "6. **Append and Read Mode (`'a+'`)**: This mode allows both reading and appending operations. It opens the file for reading and places the file pointer at the end of the file, so any writes will append to the existing content. Example:\n",
    "   ```python\n",
    "   file = open('example.txt', 'a+')\n",
    "   ```\n",
    "\n",
    "It's important to note that when working with file objects, it's good practice to close the file after you finish using it to free up system resources. You can do this by calling the `close()` method on the file object. Alternatively, you can use a context manager (`with` statement) to ensure that the file is automatically closed after use.\n"
   ]
  },
  {
   "cell_type": "code",
   "execution_count": 3,
   "metadata": {},
   "outputs": [
    {
     "name": "stdout",
     "output_type": "stream",
     "text": [
      "Sample.txt content:\n",
      "John\n",
      "\n",
      "Adolf\n",
      "\n"
     ]
    }
   ],
   "source": [
    "# Python Program To read names from the user and write to a text file\n",
    "# The program should also read the names from the text file and display them\n",
    "\n",
    "with open('sample.txt', 'w',newline=\"\") as f:\n",
    "    while True:\n",
    "        n=input(\"Enter a name:\")\n",
    "        f.write(n+'\\n')\n",
    "        if input(\"Enter more? (y/n):\").lower() != 'y':\n",
    "            break\n",
    "\n",
    "with open('sample.txt', 'r') as f:\n",
    "    print(\"Sample.txt content:\")\n",
    "    li=f.readlines()\n",
    "    for i in li:\n",
    "        print(i)\n",
    "\n"
   ]
  }
 ],
 "metadata": {
  "kernelspec": {
   "display_name": "Python 3",
   "language": "python",
   "name": "python3"
  },
  "language_info": {
   "codemirror_mode": {
    "name": "ipython",
    "version": 3
   },
   "file_extension": ".py",
   "mimetype": "text/x-python",
   "name": "python",
   "nbconvert_exporter": "python",
   "pygments_lexer": "ipython3",
   "version": "3.11.1"
  },
  "orig_nbformat": 4
 },
 "nbformat": 4,
 "nbformat_minor": 2
}
